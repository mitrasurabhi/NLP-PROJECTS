{
  "cells": [
    {
      "cell_type": "markdown",
      "metadata": {
        "id": "view-in-github",
        "colab_type": "text"
      },
      "source": [
        "<a href=\"https://colab.research.google.com/github/mitrasurabhi/NLP-PROJECTS/blob/main/Word2Vec_Quora_question_pairs_2.ipynb\" target=\"_parent\"><img src=\"https://colab.research.google.com/assets/colab-badge.svg\" alt=\"Open In Colab\"/></a>"
      ]
    },
    {
      "cell_type": "markdown",
      "metadata": {
        "id": "HsZrfPbdYBIa"
      },
      "source": [
        "Identification of duplicate quora question pairs\n",
        "\n"
      ]
    },
    {
      "cell_type": "code",
      "execution_count": null,
      "metadata": {
        "colab": {
          "base_uri": "https://localhost:8080/"
        },
        "id": "cSTYU3a6YRWg",
        "outputId": "0dc442e7-a267-43b3-fd01-a29500aa586f"
      },
      "outputs": [
        {
          "output_type": "stream",
          "name": "stderr",
          "text": [
            "[nltk_data] Downloading collection 'popular'\n",
            "[nltk_data]    | \n",
            "[nltk_data]    | Downloading package cmudict to /root/nltk_data...\n",
            "[nltk_data]    |   Unzipping corpora/cmudict.zip.\n",
            "[nltk_data]    | Downloading package gazetteers to /root/nltk_data...\n",
            "[nltk_data]    |   Unzipping corpora/gazetteers.zip.\n",
            "[nltk_data]    | Downloading package genesis to /root/nltk_data...\n",
            "[nltk_data]    |   Unzipping corpora/genesis.zip.\n",
            "[nltk_data]    | Downloading package gutenberg to /root/nltk_data...\n",
            "[nltk_data]    |   Unzipping corpora/gutenberg.zip.\n",
            "[nltk_data]    | Downloading package inaugural to /root/nltk_data...\n",
            "[nltk_data]    |   Unzipping corpora/inaugural.zip.\n",
            "[nltk_data]    | Downloading package movie_reviews to\n",
            "[nltk_data]    |     /root/nltk_data...\n",
            "[nltk_data]    |   Unzipping corpora/movie_reviews.zip.\n",
            "[nltk_data]    | Downloading package names to /root/nltk_data...\n",
            "[nltk_data]    |   Unzipping corpora/names.zip.\n",
            "[nltk_data]    | Downloading package shakespeare to /root/nltk_data...\n",
            "[nltk_data]    |   Unzipping corpora/shakespeare.zip.\n",
            "[nltk_data]    | Downloading package stopwords to /root/nltk_data...\n",
            "[nltk_data]    |   Unzipping corpora/stopwords.zip.\n",
            "[nltk_data]    | Downloading package treebank to /root/nltk_data...\n",
            "[nltk_data]    |   Unzipping corpora/treebank.zip.\n",
            "[nltk_data]    | Downloading package twitter_samples to\n",
            "[nltk_data]    |     /root/nltk_data...\n",
            "[nltk_data]    |   Unzipping corpora/twitter_samples.zip.\n",
            "[nltk_data]    | Downloading package omw to /root/nltk_data...\n",
            "[nltk_data]    | Downloading package omw-1.4 to /root/nltk_data...\n",
            "[nltk_data]    | Downloading package wordnet to /root/nltk_data...\n",
            "[nltk_data]    | Downloading package wordnet2021 to /root/nltk_data...\n",
            "[nltk_data]    | Downloading package wordnet31 to /root/nltk_data...\n",
            "[nltk_data]    | Downloading package wordnet_ic to /root/nltk_data...\n",
            "[nltk_data]    |   Unzipping corpora/wordnet_ic.zip.\n",
            "[nltk_data]    | Downloading package words to /root/nltk_data...\n",
            "[nltk_data]    |   Unzipping corpora/words.zip.\n",
            "[nltk_data]    | Downloading package maxent_ne_chunker to\n",
            "[nltk_data]    |     /root/nltk_data...\n",
            "[nltk_data]    |   Unzipping chunkers/maxent_ne_chunker.zip.\n",
            "[nltk_data]    | Downloading package punkt to /root/nltk_data...\n",
            "[nltk_data]    |   Unzipping tokenizers/punkt.zip.\n",
            "[nltk_data]    | Downloading package snowball_data to\n",
            "[nltk_data]    |     /root/nltk_data...\n",
            "[nltk_data]    | Downloading package averaged_perceptron_tagger to\n",
            "[nltk_data]    |     /root/nltk_data...\n",
            "[nltk_data]    |   Unzipping taggers/averaged_perceptron_tagger.zip.\n",
            "[nltk_data]    | \n",
            "[nltk_data]  Done downloading collection popular\n"
          ]
        }
      ],
      "source": [
        "import numpy as np\n",
        "import pandas as pd\n",
        "import matplotlib.pyplot as plt\n",
        "import seaborn as sns\n",
        "import re\n",
        "import nltk\n",
        "nltk.download(\"popular\")\n",
        "from nltk.corpus import stopwords\n",
        "from nltk.stem import PorterStemmer\n",
        "from nltk.stem import WordNetLemmatizer\n",
        "lemmatizer = WordNetLemmatizer()\n",
        "from wordcloud import WordCloud\n",
        "import tensorflow as tf\n",
        "from tensorflow.keras.preprocessing.text import Tokenizer\n",
        "from tensorflow.keras.preprocessing.sequence import pad_sequences\n",
        "from tensorflow.keras.layers import GlobalMaxPool1D, Input, GRU\n",
        "from tensorflow.keras.models import Model\n",
        "from sklearn.metrics import classification_report\n",
        "from sklearn.model_selection import train_test_split\n",
        "import gensim\n",
        "\n",
        "import warnings\n",
        "warnings.filterwarnings('ignore')"
      ]
    },
    {
      "cell_type": "markdown",
      "metadata": {
        "id": "pZASgR8L6McD"
      },
      "source": [
        "#Reading data and basic stats"
      ]
    },
    {
      "cell_type": "code",
      "execution_count": null,
      "metadata": {
        "colab": {
          "base_uri": "https://localhost:8080/",
          "height": 423
        },
        "id": "lZRt6jx5wvyE",
        "outputId": "3b627773-3272-4698-d5e3-1c8f0885540b"
      },
      "outputs": [
        {
          "output_type": "execute_result",
          "data": {
            "text/plain": [
              "            id    qid1    qid2  \\\n",
              "0            0       1       2   \n",
              "1            1       3       4   \n",
              "2            2       5       6   \n",
              "3            3       7       8   \n",
              "4            4       9      10   \n",
              "...        ...     ...     ...   \n",
              "404285  404285  433578  379845   \n",
              "404286  404286   18840  155606   \n",
              "404287  404287  537928  537929   \n",
              "404288  404288  537930  537931   \n",
              "404289  404289  537932  537933   \n",
              "\n",
              "                                                question1  \\\n",
              "0       What is the step by step guide to invest in sh...   \n",
              "1       What is the story of Kohinoor (Koh-i-Noor) Dia...   \n",
              "2       How can I increase the speed of my internet co...   \n",
              "3       Why am I mentally very lonely? How can I solve...   \n",
              "4       Which one dissolve in water quikly sugar, salt...   \n",
              "...                                                   ...   \n",
              "404285  How many keywords are there in the Racket prog...   \n",
              "404286          Do you believe there is life after death?   \n",
              "404287                                  What is one coin?   \n",
              "404288  What is the approx annual cost of living while...   \n",
              "404289              What is like to have sex with cousin?   \n",
              "\n",
              "                                                question2  is_duplicate  \n",
              "0       What is the step by step guide to invest in sh...             0  \n",
              "1       What would happen if the Indian government sto...             0  \n",
              "2       How can Internet speed be increased by hacking...             0  \n",
              "3       Find the remainder when [math]23^{24}[/math] i...             0  \n",
              "4                 Which fish would survive in salt water?             0  \n",
              "...                                                   ...           ...  \n",
              "404285  How many keywords are there in PERL Programmin...             0  \n",
              "404286         Is it true that there is life after death?             1  \n",
              "404287                                  What's this coin?             0  \n",
              "404288  I am having little hairfall problem but I want...             0  \n",
              "404289      What is it like to have sex with your cousin?             0  \n",
              "\n",
              "[404290 rows x 6 columns]"
            ],
            "text/html": [
              "\n",
              "  <div id=\"df-a175c8af-4372-4926-890b-b681a7b645d8\">\n",
              "    <div class=\"colab-df-container\">\n",
              "      <div>\n",
              "<style scoped>\n",
              "    .dataframe tbody tr th:only-of-type {\n",
              "        vertical-align: middle;\n",
              "    }\n",
              "\n",
              "    .dataframe tbody tr th {\n",
              "        vertical-align: top;\n",
              "    }\n",
              "\n",
              "    .dataframe thead th {\n",
              "        text-align: right;\n",
              "    }\n",
              "</style>\n",
              "<table border=\"1\" class=\"dataframe\">\n",
              "  <thead>\n",
              "    <tr style=\"text-align: right;\">\n",
              "      <th></th>\n",
              "      <th>id</th>\n",
              "      <th>qid1</th>\n",
              "      <th>qid2</th>\n",
              "      <th>question1</th>\n",
              "      <th>question2</th>\n",
              "      <th>is_duplicate</th>\n",
              "    </tr>\n",
              "  </thead>\n",
              "  <tbody>\n",
              "    <tr>\n",
              "      <th>0</th>\n",
              "      <td>0</td>\n",
              "      <td>1</td>\n",
              "      <td>2</td>\n",
              "      <td>What is the step by step guide to invest in sh...</td>\n",
              "      <td>What is the step by step guide to invest in sh...</td>\n",
              "      <td>0</td>\n",
              "    </tr>\n",
              "    <tr>\n",
              "      <th>1</th>\n",
              "      <td>1</td>\n",
              "      <td>3</td>\n",
              "      <td>4</td>\n",
              "      <td>What is the story of Kohinoor (Koh-i-Noor) Dia...</td>\n",
              "      <td>What would happen if the Indian government sto...</td>\n",
              "      <td>0</td>\n",
              "    </tr>\n",
              "    <tr>\n",
              "      <th>2</th>\n",
              "      <td>2</td>\n",
              "      <td>5</td>\n",
              "      <td>6</td>\n",
              "      <td>How can I increase the speed of my internet co...</td>\n",
              "      <td>How can Internet speed be increased by hacking...</td>\n",
              "      <td>0</td>\n",
              "    </tr>\n",
              "    <tr>\n",
              "      <th>3</th>\n",
              "      <td>3</td>\n",
              "      <td>7</td>\n",
              "      <td>8</td>\n",
              "      <td>Why am I mentally very lonely? How can I solve...</td>\n",
              "      <td>Find the remainder when [math]23^{24}[/math] i...</td>\n",
              "      <td>0</td>\n",
              "    </tr>\n",
              "    <tr>\n",
              "      <th>4</th>\n",
              "      <td>4</td>\n",
              "      <td>9</td>\n",
              "      <td>10</td>\n",
              "      <td>Which one dissolve in water quikly sugar, salt...</td>\n",
              "      <td>Which fish would survive in salt water?</td>\n",
              "      <td>0</td>\n",
              "    </tr>\n",
              "    <tr>\n",
              "      <th>...</th>\n",
              "      <td>...</td>\n",
              "      <td>...</td>\n",
              "      <td>...</td>\n",
              "      <td>...</td>\n",
              "      <td>...</td>\n",
              "      <td>...</td>\n",
              "    </tr>\n",
              "    <tr>\n",
              "      <th>404285</th>\n",
              "      <td>404285</td>\n",
              "      <td>433578</td>\n",
              "      <td>379845</td>\n",
              "      <td>How many keywords are there in the Racket prog...</td>\n",
              "      <td>How many keywords are there in PERL Programmin...</td>\n",
              "      <td>0</td>\n",
              "    </tr>\n",
              "    <tr>\n",
              "      <th>404286</th>\n",
              "      <td>404286</td>\n",
              "      <td>18840</td>\n",
              "      <td>155606</td>\n",
              "      <td>Do you believe there is life after death?</td>\n",
              "      <td>Is it true that there is life after death?</td>\n",
              "      <td>1</td>\n",
              "    </tr>\n",
              "    <tr>\n",
              "      <th>404287</th>\n",
              "      <td>404287</td>\n",
              "      <td>537928</td>\n",
              "      <td>537929</td>\n",
              "      <td>What is one coin?</td>\n",
              "      <td>What's this coin?</td>\n",
              "      <td>0</td>\n",
              "    </tr>\n",
              "    <tr>\n",
              "      <th>404288</th>\n",
              "      <td>404288</td>\n",
              "      <td>537930</td>\n",
              "      <td>537931</td>\n",
              "      <td>What is the approx annual cost of living while...</td>\n",
              "      <td>I am having little hairfall problem but I want...</td>\n",
              "      <td>0</td>\n",
              "    </tr>\n",
              "    <tr>\n",
              "      <th>404289</th>\n",
              "      <td>404289</td>\n",
              "      <td>537932</td>\n",
              "      <td>537933</td>\n",
              "      <td>What is like to have sex with cousin?</td>\n",
              "      <td>What is it like to have sex with your cousin?</td>\n",
              "      <td>0</td>\n",
              "    </tr>\n",
              "  </tbody>\n",
              "</table>\n",
              "<p>404290 rows × 6 columns</p>\n",
              "</div>\n",
              "      <button class=\"colab-df-convert\" onclick=\"convertToInteractive('df-a175c8af-4372-4926-890b-b681a7b645d8')\"\n",
              "              title=\"Convert this dataframe to an interactive table.\"\n",
              "              style=\"display:none;\">\n",
              "        \n",
              "  <svg xmlns=\"http://www.w3.org/2000/svg\" height=\"24px\"viewBox=\"0 0 24 24\"\n",
              "       width=\"24px\">\n",
              "    <path d=\"M0 0h24v24H0V0z\" fill=\"none\"/>\n",
              "    <path d=\"M18.56 5.44l.94 2.06.94-2.06 2.06-.94-2.06-.94-.94-2.06-.94 2.06-2.06.94zm-11 1L8.5 8.5l.94-2.06 2.06-.94-2.06-.94L8.5 2.5l-.94 2.06-2.06.94zm10 10l.94 2.06.94-2.06 2.06-.94-2.06-.94-.94-2.06-.94 2.06-2.06.94z\"/><path d=\"M17.41 7.96l-1.37-1.37c-.4-.4-.92-.59-1.43-.59-.52 0-1.04.2-1.43.59L10.3 9.45l-7.72 7.72c-.78.78-.78 2.05 0 2.83L4 21.41c.39.39.9.59 1.41.59.51 0 1.02-.2 1.41-.59l7.78-7.78 2.81-2.81c.8-.78.8-2.07 0-2.86zM5.41 20L4 18.59l7.72-7.72 1.47 1.35L5.41 20z\"/>\n",
              "  </svg>\n",
              "      </button>\n",
              "      \n",
              "  <style>\n",
              "    .colab-df-container {\n",
              "      display:flex;\n",
              "      flex-wrap:wrap;\n",
              "      gap: 12px;\n",
              "    }\n",
              "\n",
              "    .colab-df-convert {\n",
              "      background-color: #E8F0FE;\n",
              "      border: none;\n",
              "      border-radius: 50%;\n",
              "      cursor: pointer;\n",
              "      display: none;\n",
              "      fill: #1967D2;\n",
              "      height: 32px;\n",
              "      padding: 0 0 0 0;\n",
              "      width: 32px;\n",
              "    }\n",
              "\n",
              "    .colab-df-convert:hover {\n",
              "      background-color: #E2EBFA;\n",
              "      box-shadow: 0px 1px 2px rgba(60, 64, 67, 0.3), 0px 1px 3px 1px rgba(60, 64, 67, 0.15);\n",
              "      fill: #174EA6;\n",
              "    }\n",
              "\n",
              "    [theme=dark] .colab-df-convert {\n",
              "      background-color: #3B4455;\n",
              "      fill: #D2E3FC;\n",
              "    }\n",
              "\n",
              "    [theme=dark] .colab-df-convert:hover {\n",
              "      background-color: #434B5C;\n",
              "      box-shadow: 0px 1px 3px 1px rgba(0, 0, 0, 0.15);\n",
              "      filter: drop-shadow(0px 1px 2px rgba(0, 0, 0, 0.3));\n",
              "      fill: #FFFFFF;\n",
              "    }\n",
              "  </style>\n",
              "\n",
              "      <script>\n",
              "        const buttonEl =\n",
              "          document.querySelector('#df-a175c8af-4372-4926-890b-b681a7b645d8 button.colab-df-convert');\n",
              "        buttonEl.style.display =\n",
              "          google.colab.kernel.accessAllowed ? 'block' : 'none';\n",
              "\n",
              "        async function convertToInteractive(key) {\n",
              "          const element = document.querySelector('#df-a175c8af-4372-4926-890b-b681a7b645d8');\n",
              "          const dataTable =\n",
              "            await google.colab.kernel.invokeFunction('convertToInteractive',\n",
              "                                                     [key], {});\n",
              "          if (!dataTable) return;\n",
              "\n",
              "          const docLinkHtml = 'Like what you see? Visit the ' +\n",
              "            '<a target=\"_blank\" href=https://colab.research.google.com/notebooks/data_table.ipynb>data table notebook</a>'\n",
              "            + ' to learn more about interactive tables.';\n",
              "          element.innerHTML = '';\n",
              "          dataTable['output_type'] = 'display_data';\n",
              "          await google.colab.output.renderOutput(dataTable, element);\n",
              "          const docLink = document.createElement('div');\n",
              "          docLink.innerHTML = docLinkHtml;\n",
              "          element.appendChild(docLink);\n",
              "        }\n",
              "      </script>\n",
              "    </div>\n",
              "  </div>\n",
              "  "
            ]
          },
          "metadata": {},
          "execution_count": 2
        }
      ],
      "source": [
        "dataset = pd.read_csv('https://cdn.extras.talentsprint.com/ADSMI/Datasets/quora_question_pairs.zip')\n",
        "dataset"
      ]
    },
    {
      "cell_type": "code",
      "execution_count": null,
      "metadata": {
        "colab": {
          "base_uri": "https://localhost:8080/"
        },
        "id": "x8nIae0rxRvc",
        "outputId": "4f70f1ba-cfd5-4dd1-a01f-d47ee60e5f55"
      },
      "outputs": [
        {
          "name": "stdout",
          "output_type": "stream",
          "text": [
            "<class 'pandas.core.frame.DataFrame'>\n",
            "RangeIndex: 404290 entries, 0 to 404289\n",
            "Data columns (total 6 columns):\n",
            " #   Column        Non-Null Count   Dtype \n",
            "---  ------        --------------   ----- \n",
            " 0   id            404290 non-null  int64 \n",
            " 1   qid1          404290 non-null  int64 \n",
            " 2   qid2          404290 non-null  int64 \n",
            " 3   question1     404289 non-null  object\n",
            " 4   question2     404288 non-null  object\n",
            " 5   is_duplicate  404290 non-null  int64 \n",
            "dtypes: int64(4), object(2)\n",
            "memory usage: 18.5+ MB\n"
          ]
        }
      ],
      "source": [
        "dataset.info()"
      ]
    },
    {
      "cell_type": "code",
      "execution_count": null,
      "metadata": {
        "colab": {
          "base_uri": "https://localhost:8080/",
          "height": 300
        },
        "id": "-MyCIItj1ZXE",
        "outputId": "75f99ca0-68fc-4c3c-efe1-7bebf74016a1"
      },
      "outputs": [
        {
          "data": {
            "text/html": [
              "\n",
              "  <div id=\"df-727baf8e-b7bc-41d3-b9a6-27d0bef6eb63\">\n",
              "    <div class=\"colab-df-container\">\n",
              "      <div>\n",
              "<style scoped>\n",
              "    .dataframe tbody tr th:only-of-type {\n",
              "        vertical-align: middle;\n",
              "    }\n",
              "\n",
              "    .dataframe tbody tr th {\n",
              "        vertical-align: top;\n",
              "    }\n",
              "\n",
              "    .dataframe thead th {\n",
              "        text-align: right;\n",
              "    }\n",
              "</style>\n",
              "<table border=\"1\" class=\"dataframe\">\n",
              "  <thead>\n",
              "    <tr style=\"text-align: right;\">\n",
              "      <th></th>\n",
              "      <th>id</th>\n",
              "      <th>qid1</th>\n",
              "      <th>qid2</th>\n",
              "      <th>is_duplicate</th>\n",
              "    </tr>\n",
              "  </thead>\n",
              "  <tbody>\n",
              "    <tr>\n",
              "      <th>count</th>\n",
              "      <td>404290.000000</td>\n",
              "      <td>404290.000000</td>\n",
              "      <td>404290.000000</td>\n",
              "      <td>404290.000000</td>\n",
              "    </tr>\n",
              "    <tr>\n",
              "      <th>mean</th>\n",
              "      <td>202144.500000</td>\n",
              "      <td>217243.942418</td>\n",
              "      <td>220955.655337</td>\n",
              "      <td>0.369198</td>\n",
              "    </tr>\n",
              "    <tr>\n",
              "      <th>std</th>\n",
              "      <td>116708.614503</td>\n",
              "      <td>157751.700002</td>\n",
              "      <td>159903.182629</td>\n",
              "      <td>0.482588</td>\n",
              "    </tr>\n",
              "    <tr>\n",
              "      <th>min</th>\n",
              "      <td>0.000000</td>\n",
              "      <td>1.000000</td>\n",
              "      <td>2.000000</td>\n",
              "      <td>0.000000</td>\n",
              "    </tr>\n",
              "    <tr>\n",
              "      <th>25%</th>\n",
              "      <td>101072.250000</td>\n",
              "      <td>74437.500000</td>\n",
              "      <td>74727.000000</td>\n",
              "      <td>0.000000</td>\n",
              "    </tr>\n",
              "    <tr>\n",
              "      <th>50%</th>\n",
              "      <td>202144.500000</td>\n",
              "      <td>192182.000000</td>\n",
              "      <td>197052.000000</td>\n",
              "      <td>0.000000</td>\n",
              "    </tr>\n",
              "    <tr>\n",
              "      <th>75%</th>\n",
              "      <td>303216.750000</td>\n",
              "      <td>346573.500000</td>\n",
              "      <td>354692.500000</td>\n",
              "      <td>1.000000</td>\n",
              "    </tr>\n",
              "    <tr>\n",
              "      <th>max</th>\n",
              "      <td>404289.000000</td>\n",
              "      <td>537932.000000</td>\n",
              "      <td>537933.000000</td>\n",
              "      <td>1.000000</td>\n",
              "    </tr>\n",
              "  </tbody>\n",
              "</table>\n",
              "</div>\n",
              "      <button class=\"colab-df-convert\" onclick=\"convertToInteractive('df-727baf8e-b7bc-41d3-b9a6-27d0bef6eb63')\"\n",
              "              title=\"Convert this dataframe to an interactive table.\"\n",
              "              style=\"display:none;\">\n",
              "        \n",
              "  <svg xmlns=\"http://www.w3.org/2000/svg\" height=\"24px\"viewBox=\"0 0 24 24\"\n",
              "       width=\"24px\">\n",
              "    <path d=\"M0 0h24v24H0V0z\" fill=\"none\"/>\n",
              "    <path d=\"M18.56 5.44l.94 2.06.94-2.06 2.06-.94-2.06-.94-.94-2.06-.94 2.06-2.06.94zm-11 1L8.5 8.5l.94-2.06 2.06-.94-2.06-.94L8.5 2.5l-.94 2.06-2.06.94zm10 10l.94 2.06.94-2.06 2.06-.94-2.06-.94-.94-2.06-.94 2.06-2.06.94z\"/><path d=\"M17.41 7.96l-1.37-1.37c-.4-.4-.92-.59-1.43-.59-.52 0-1.04.2-1.43.59L10.3 9.45l-7.72 7.72c-.78.78-.78 2.05 0 2.83L4 21.41c.39.39.9.59 1.41.59.51 0 1.02-.2 1.41-.59l7.78-7.78 2.81-2.81c.8-.78.8-2.07 0-2.86zM5.41 20L4 18.59l7.72-7.72 1.47 1.35L5.41 20z\"/>\n",
              "  </svg>\n",
              "      </button>\n",
              "      \n",
              "  <style>\n",
              "    .colab-df-container {\n",
              "      display:flex;\n",
              "      flex-wrap:wrap;\n",
              "      gap: 12px;\n",
              "    }\n",
              "\n",
              "    .colab-df-convert {\n",
              "      background-color: #E8F0FE;\n",
              "      border: none;\n",
              "      border-radius: 50%;\n",
              "      cursor: pointer;\n",
              "      display: none;\n",
              "      fill: #1967D2;\n",
              "      height: 32px;\n",
              "      padding: 0 0 0 0;\n",
              "      width: 32px;\n",
              "    }\n",
              "\n",
              "    .colab-df-convert:hover {\n",
              "      background-color: #E2EBFA;\n",
              "      box-shadow: 0px 1px 2px rgba(60, 64, 67, 0.3), 0px 1px 3px 1px rgba(60, 64, 67, 0.15);\n",
              "      fill: #174EA6;\n",
              "    }\n",
              "\n",
              "    [theme=dark] .colab-df-convert {\n",
              "      background-color: #3B4455;\n",
              "      fill: #D2E3FC;\n",
              "    }\n",
              "\n",
              "    [theme=dark] .colab-df-convert:hover {\n",
              "      background-color: #434B5C;\n",
              "      box-shadow: 0px 1px 3px 1px rgba(0, 0, 0, 0.15);\n",
              "      filter: drop-shadow(0px 1px 2px rgba(0, 0, 0, 0.3));\n",
              "      fill: #FFFFFF;\n",
              "    }\n",
              "  </style>\n",
              "\n",
              "      <script>\n",
              "        const buttonEl =\n",
              "          document.querySelector('#df-727baf8e-b7bc-41d3-b9a6-27d0bef6eb63 button.colab-df-convert');\n",
              "        buttonEl.style.display =\n",
              "          google.colab.kernel.accessAllowed ? 'block' : 'none';\n",
              "\n",
              "        async function convertToInteractive(key) {\n",
              "          const element = document.querySelector('#df-727baf8e-b7bc-41d3-b9a6-27d0bef6eb63');\n",
              "          const dataTable =\n",
              "            await google.colab.kernel.invokeFunction('convertToInteractive',\n",
              "                                                     [key], {});\n",
              "          if (!dataTable) return;\n",
              "\n",
              "          const docLinkHtml = 'Like what you see? Visit the ' +\n",
              "            '<a target=\"_blank\" href=https://colab.research.google.com/notebooks/data_table.ipynb>data table notebook</a>'\n",
              "            + ' to learn more about interactive tables.';\n",
              "          element.innerHTML = '';\n",
              "          dataTable['output_type'] = 'display_data';\n",
              "          await google.colab.output.renderOutput(dataTable, element);\n",
              "          const docLink = document.createElement('div');\n",
              "          docLink.innerHTML = docLinkHtml;\n",
              "          element.appendChild(docLink);\n",
              "        }\n",
              "      </script>\n",
              "    </div>\n",
              "  </div>\n",
              "  "
            ],
            "text/plain": [
              "                  id           qid1           qid2   is_duplicate\n",
              "count  404290.000000  404290.000000  404290.000000  404290.000000\n",
              "mean   202144.500000  217243.942418  220955.655337       0.369198\n",
              "std    116708.614503  157751.700002  159903.182629       0.482588\n",
              "min         0.000000       1.000000       2.000000       0.000000\n",
              "25%    101072.250000   74437.500000   74727.000000       0.000000\n",
              "50%    202144.500000  192182.000000  197052.000000       0.000000\n",
              "75%    303216.750000  346573.500000  354692.500000       1.000000\n",
              "max    404289.000000  537932.000000  537933.000000       1.000000"
            ]
          },
          "execution_count": 5,
          "metadata": {},
          "output_type": "execute_result"
        }
      ],
      "source": [
        "dataset.describe()"
      ]
    },
    {
      "cell_type": "code",
      "execution_count": null,
      "metadata": {
        "colab": {
          "base_uri": "https://localhost:8080/"
        },
        "id": "uQvN3Msx1g9c",
        "outputId": "263c2337-a20b-4420-c37e-d7d9306fd775"
      },
      "outputs": [
        {
          "output_type": "execute_result",
          "data": {
            "text/plain": [
              "id              0\n",
              "qid1            0\n",
              "qid2            0\n",
              "question1       1\n",
              "question2       2\n",
              "is_duplicate    0\n",
              "dtype: int64"
            ]
          },
          "metadata": {},
          "execution_count": 3
        }
      ],
      "source": [
        "dataset.isnull().sum()"
      ]
    },
    {
      "cell_type": "code",
      "execution_count": null,
      "metadata": {
        "colab": {
          "base_uri": "https://localhost:8080/"
        },
        "id": "hJuvDfk8-J1y",
        "outputId": "b55136ab-8507-44ae-829a-6237e58186c7"
      },
      "outputs": [
        {
          "output_type": "execute_result",
          "data": {
            "text/plain": [
              "0"
            ]
          },
          "metadata": {},
          "execution_count": 4
        }
      ],
      "source": [
        "dataset.duplicated().sum()"
      ]
    },
    {
      "cell_type": "code",
      "execution_count": null,
      "metadata": {
        "id": "-kzWzjWwxVpW"
      },
      "outputs": [],
      "source": [
        "dataset.drop(['id','qid1','qid2'],axis=1,inplace=True)"
      ]
    },
    {
      "cell_type": "code",
      "execution_count": null,
      "metadata": {
        "colab": {
          "base_uri": "https://localhost:8080/"
        },
        "id": "c3RrnaEYw0n7",
        "outputId": "cc50ae78-8e84-49a0-a401-390562b351d4"
      },
      "outputs": [
        {
          "output_type": "execute_result",
          "data": {
            "text/plain": [
              "question1       1\n",
              "question2       2\n",
              "is_duplicate    0\n",
              "dtype: int64"
            ]
          },
          "metadata": {},
          "execution_count": 6
        }
      ],
      "source": [
        "dataset.isnull().sum()"
      ]
    },
    {
      "cell_type": "code",
      "execution_count": null,
      "metadata": {
        "id": "bsovfpGFxdCh"
      },
      "outputs": [],
      "source": [
        "dataset.dropna(inplace= True)"
      ]
    },
    {
      "cell_type": "code",
      "execution_count": null,
      "metadata": {
        "colab": {
          "base_uri": "https://localhost:8080/"
        },
        "id": "jIvSgrRgxrMh",
        "outputId": "598d4b31-a1ef-4f3d-94fc-667b12ec7ad6"
      },
      "outputs": [
        {
          "output_type": "execute_result",
          "data": {
            "text/plain": [
              "question1       0\n",
              "question2       0\n",
              "is_duplicate    0\n",
              "dtype: int64"
            ]
          },
          "metadata": {},
          "execution_count": 8
        }
      ],
      "source": [
        "dataset.isnull().sum()"
      ]
    },
    {
      "cell_type": "markdown",
      "metadata": {
        "id": "q3Tyvu_z-Xqy"
      },
      "source": [
        "#Distribution of data points among output classes\n",
        "* Number of duplicate (smilar) and non-duplicate (non similar) questions"
      ]
    },
    {
      "cell_type": "markdown",
      "metadata": {
        "id": "ckQ-cC93y6wl"
      },
      "source": [
        "# Cleaning"
      ]
    },
    {
      "cell_type": "code",
      "execution_count": null,
      "metadata": {
        "id": "dTvgUQOT09k4"
      },
      "outputs": [],
      "source": [
        "CONTRACTION_MAP = {\n",
        "    \"ain't\": \"is not\",\n",
        "    \"aren't\": \"are not\",\n",
        "    \"can't\": \"cannot\",\n",
        "    \"can't've\": \"cannot have\",\n",
        "    \"'cause\": \"because\",\n",
        "    \"could've\": \"could have\",\n",
        "    \"couldn't\": \"could not\",\n",
        "    \"couldn't've\": \"could not have\",\n",
        "    \"didn't\": \"did not\",\n",
        "    \"doesn't\": \"does not\",\n",
        "    \"don't\": \"do not\",\n",
        "    \"hadn't\": \"had not\",\n",
        "    \"hadn't've\": \"had not have\",\n",
        "    \"hasn't\": \"has not\",\n",
        "    \"haven't\": \"have not\",\n",
        "    \"he'd\": \"he would\",\n",
        "    \"he'd've\": \"he would have\",\n",
        "    \"he'll\": \"he will\",\n",
        "    \"he'll've\": \"he will have\",\n",
        "    \"he's\": \"he is\",\n",
        "    \"how'd\": \"how did\",\n",
        "    \"how'd'y\": \"how do you\",\n",
        "    \"how'll\": \"how will\",\n",
        "    \"how's\": \"how is\",\n",
        "    \"i'd\": \"i would\",\n",
        "    \"i'd've\": \"i would have\",\n",
        "    \"i'll\": \"i will\",\n",
        "    \"i'll've\": \"i will have\",\n",
        "    \"i'm\": \"i am\",\n",
        "    \"i've\": \"i have\",\n",
        "    \"isn't\": \"is not\",\n",
        "    \"it'd\": \"it would\",\n",
        "    \"it'd've\": \"it would have\",\n",
        "    \"it'll\": \"it will\",\n",
        "    \"it'll've\": \"it will have\",\n",
        "    \"it's\": \"it is\",\n",
        "    \"let's\": \"let us\",\n",
        "    \"ma'am\": \"madam\",\n",
        "    \"mayn't\": \"may not\",\n",
        "    \"might've\": \"might have\",\n",
        "    \"mightn't\": \"might not\",\n",
        "    \"mightn't've\": \"might not have\",\n",
        "    \"must've\": \"must have\",\n",
        "    \"mustn't\": \"must not\",\n",
        "    \"mustn't've\": \"must not have\",\n",
        "    \"needn't\": \"need not\",\n",
        "    \"needn't've\": \"need not have\",\n",
        "    \"o'clock\": \"of the clock\",\n",
        "    \"oughtn't\": \"ought not\",\n",
        "    \"oughtn't've\": \"ought not have\",\n",
        "    \"shan't\": \"shall not\",\n",
        "    \"sha'n't\": \"shall not\",\n",
        "    \"shan't've\": \"shall not have\",\n",
        "    \"she'd\": \"she would\",\n",
        "    \"she'd've\": \"she would have\",\n",
        "    \"she'll\": \"she will\",\n",
        "    \"she'll've\": \"she will have\",\n",
        "    \"she's\": \"she is\",\n",
        "    \"should've\": \"should have\",\n",
        "    \"shouldn't\": \"should not\",\n",
        "    \"shouldn't've\": \"should not have\",\n",
        "    \"so've\": \"so have\",\n",
        "    \"so's\": \"so as\",\n",
        "    \"that'd\": \"that would\",\n",
        "    \"that'd've\": \"that would have\",\n",
        "    \"that's\": \"that is\",\n",
        "    \"there'd\": \"there would\",\n",
        "    \"there'd've\": \"there would have\",\n",
        "    \"there's\": \"there is\",\n",
        "    \"they'd\": \"they would\",\n",
        "    \"they'd've\": \"they would have\",\n",
        "    \"they'll\": \"they will\",\n",
        "    \"they'll've\": \"they will have\",\n",
        "    \"they're\": \"they are\",\n",
        "    \"they've\": \"they have\",\n",
        "    \"to've\": \"to have\",\n",
        "    \"wasn't\": \"was not\",\n",
        "    \"we'd\": \"we would\",\n",
        "    \"we'd've\": \"we would have\",\n",
        "    \"we'll\": \"we will\",\n",
        "    \"we'll've\": \"we will have\",\n",
        "    \"we're\": \"we are\",\n",
        "    \"we've\": \"we have\",\n",
        "    \"weren't\": \"were not\",\n",
        "    \"what'll\": \"what will\",\n",
        "    \"what'll've\": \"what will have\",\n",
        "    \"what're\": \"what are\",\n",
        "    \"what's\": \"what is\",\n",
        "    \"what've\": \"what have\",\n",
        "    \"when's\": \"when is\",\n",
        "    \"when've\": \"when have\",\n",
        "    \"where'd\": \"where did\",\n",
        "    \"where's\": \"where is\",\n",
        "    \"where've\": \"where have\",\n",
        "    \"who'll\": \"who will\",\n",
        "    \"who'll've\": \"who will have\",\n",
        "    \"who's\": \"who is\",\n",
        "    \"who've\": \"who have\",\n",
        "    \"why's\": \"why is\",\n",
        "    \"why've\": \"why have\",\n",
        "    \"will've\": \"will have\",\n",
        "    \"won't\": \"will not\",\n",
        "    \"won't've\": \"will not have\",\n",
        "    \"would've\": \"would have\",\n",
        "    \"wouldn't\": \"would not\",\n",
        "    \"wouldn't've\": \"would not have\",\n",
        "    \"y'all\": \"you all\",\n",
        "    \"y'all'd\": \"you all would\",\n",
        "    \"y'all'd've\": \"you all would have\",\n",
        "    \"y'all're\": \"you all are\",\n",
        "    \"y'all've\": \"you all have\",\n",
        "    \"you'd\": \"you would\",\n",
        "    \"you'd've\": \"you would have\",\n",
        "    \"you'll\": \"you will\",\n",
        "    \"you'll've\": \"you will have\",\n",
        "    \"you're\": \"you are\",\n",
        "    \"you've\": \"you have\"\n",
        "    }"
      ]
    },
    {
      "cell_type": "code",
      "execution_count": null,
      "metadata": {
        "id": "LL4AJBbbw59-"
      },
      "outputs": [],
      "source": [
        "from bs4 import BeautifulSoup\n",
        "def cleaning_text(text):\n",
        "  # convert to lower case\n",
        "    text = str(text).lower()\n",
        "  # Replace certain special characters with their string equivalents\n",
        "    text = text.replace('%', ' percent')\n",
        "    text = text.replace('$', ' dollar ')\n",
        "    text = text.replace('₹', ' rupee ')\n",
        "    text = text.replace('€', ' euro ')\n",
        "    text = text.replace('@', ' at ')\n",
        "#text = re.sub(r'\\b(\\w+)[^\\w\\s]*\\b', r'\\1', text)\n",
        " #remove punctuations\n",
        "    reg = re.compile('([^0-9A-Za-z t])|([.\\/@#*<>?])')\n",
        "    text=re.sub(reg,' ',text)\n",
        "    # expanding the words in using contraction map\n",
        "    new_text=[]\n",
        "    for word in text.split():\n",
        "        if word in CONTRACTION_MAP.keys():\n",
        "            word=CONTRACTION_MAP[word]\n",
        "        new_text.append(word)\n",
        "\n",
        "    text = ' '.join(new_text)\n",
        "    # Removing HTML tags\n",
        "    text = BeautifulSoup(text)\n",
        "    text = text.get_text()\n",
        "    #remove stop words\n",
        "    stop_words=set(stopwords.words('english'))\n",
        "    text = \" \".join([lemmatizer.lemmatize(word) for word in text.split() if word not in stop_words])\n",
        "\n",
        "    return text"
      ]
    },
    {
      "cell_type": "code",
      "execution_count": null,
      "metadata": {
        "id": "WVACSjK-m4VL"
      },
      "outputs": [],
      "source": [
        "quora = pd.DataFrame()\n",
        "quora['clean_ques1']=dataset.question1.apply(cleaning_text)\n",
        "quora['clean_ques2']=dataset.question2.apply(cleaning_text)"
      ]
    },
    {
      "cell_type": "code",
      "execution_count": null,
      "metadata": {
        "colab": {
          "base_uri": "https://localhost:8080/"
        },
        "id": "Ts-Uyy2Z8ISY",
        "outputId": "45cc2ba9-b9a6-4199-85a4-5aeba56edf06"
      },
      "outputs": [
        {
          "output_type": "stream",
          "name": "stdout",
          "text": [
            "(404287, 2)\n"
          ]
        },
        {
          "output_type": "execute_result",
          "data": {
            "text/plain": [
              "clean_ques1    0\n",
              "clean_ques2    0\n",
              "dtype: int64"
            ]
          },
          "metadata": {},
          "execution_count": 12
        }
      ],
      "source": [
        "print(quora.shape)\n",
        "quora.isna().sum()"
      ]
    },
    {
      "cell_type": "code",
      "execution_count": null,
      "metadata": {
        "id": "aQWzEK8-MI73"
      },
      "outputs": [],
      "source": [
        "# Train the word2vec model\n",
        "#from gensim.models import Word2Vec\n",
        "sentence1 = [str(sentence).split() for sentence in quora['clean_ques1']]\n",
        "sentence2 = [str(sentence).split() for sentence in quora['clean_ques2']]\n",
        "sentence = sentence1 + sentence2\n",
        "#sentence1[:20]\n",
        "w2v_model = gensim.models.Word2Vec(sentence,vector_size=100,window=5,min_count=1)"
      ]
    },
    {
      "cell_type": "code",
      "execution_count": null,
      "metadata": {
        "colab": {
          "base_uri": "https://localhost:8080/"
        },
        "id": "DPrsT2AuFS-_",
        "outputId": "4eecd1f2-9a53-42fb-f365-e4063ee4c8b8"
      },
      "outputs": [
        {
          "output_type": "stream",
          "name": "stdout",
          "text": [
            "[['step', 'step', 'guide', 'invest', 'share', 'market', 'india'], ['story', 'kohinoor', 'koh', 'noor', 'diamond'], ['increase', 'speed', 'internet', 'connection', 'using', 'vpn'], ['mentally', 'lonely', 'solve'], ['one', 'dissolve', 'water', 'quikly', 'sugar', 'salt', 'methane', 'carbon', 'di', 'oxide'], ['astrology', 'capricorn', 'sun', 'cap', 'moon', 'cap', 'rising', 'say'], ['buy', 'tiago'], ['good', 'geologist'], ['use', 'instead'], ['motorola', 'company', 'hack', 'charter', 'motorolla', 'dcx3400'], ['method', 'find', 'separation', 'slit', 'using', 'fresnel', 'biprism'], ['read', 'find', 'youtube', 'comment'], ['make', 'physic', 'easy', 'learn'], ['first', 'sexual', 'experience', 'like'], ['law', 'change', 'status', 'student', 'visa', 'green', 'card', 'u', 'compare', 'immigration', 'law', 'canada'], ['would', 'trump', 'presidency', 'mean', 'current', 'international', 'master', 'student', 'f1', 'visa'], ['manipulation', 'mean'], ['girl', 'want', 'friend', 'guy', 'reject'], ['many', 'quora', 'user', 'posting', 'question', 'readily', 'answered', 'google'], ['best', 'digital', 'marketing', 'institution', 'banglore']]\n",
            "<class 'list'>\n",
            "808574\n"
          ]
        }
      ],
      "source": [
        "print(sentence[:20])\n",
        "print(type(sentence))\n",
        "print(len(sentence))"
      ]
    },
    {
      "cell_type": "code",
      "execution_count": null,
      "metadata": {
        "id": "myebYriYPTSk"
      },
      "outputs": [],
      "source": [
        "# Returns all of the words that appeared in the training data at least twice\n",
        "#w2v_model.wv.index_to_key"
      ]
    },
    {
      "cell_type": "code",
      "execution_count": null,
      "metadata": {
        "colab": {
          "base_uri": "https://localhost:8080/"
        },
        "id": "PLAuXnZTPsMC",
        "outputId": "be3586fd-970e-40d5-c680-836a75920a10"
      },
      "outputs": [
        {
          "output_type": "execute_result",
          "data": {
            "text/plain": [
              "[('usa', 0.6599264740943909),\n",
              " ('china', 0.6552101969718933),\n",
              " ('u', 0.6476272940635681),\n",
              " ('europe', 0.6378780007362366),\n",
              " ('nation', 0.6332923173904419),\n",
              " ('uk', 0.6282986998558044),\n",
              " ('canada', 0.6038807034492493),\n",
              " ('european', 0.5937619209289551),\n",
              " ('germany', 0.5873174667358398),\n",
              " ('america', 0.5823152661323547)]"
            ]
          },
          "metadata": {},
          "execution_count": 15
        }
      ],
      "source": [
        "w2v_model.wv.most_similar('country')"
      ]
    },
    {
      "cell_type": "code",
      "execution_count": null,
      "metadata": {
        "colab": {
          "base_uri": "https://localhost:8080/",
          "height": 423
        },
        "id": "b5M6pJSlGBDd",
        "outputId": "d013ee32-d27f-4c10-afb6-fbd69cbadb8d"
      },
      "outputs": [
        {
          "output_type": "execute_result",
          "data": {
            "text/plain": [
              "                                              clean_ques1  \\\n",
              "0               step step guide invest share market india   \n",
              "1                         story kohinoor koh noor diamond   \n",
              "2            increase speed internet connection using vpn   \n",
              "3                                   mentally lonely solve   \n",
              "4       one dissolve water quikly sugar salt methane c...   \n",
              "...                                                   ...   \n",
              "404285  many keywords racket programming language late...   \n",
              "404286                                 believe life death   \n",
              "404287                                           one coin   \n",
              "404288  approx annual cost living studying uic chicago...   \n",
              "404289                                    like sex cousin   \n",
              "\n",
              "                                              clean_ques2  \n",
              "0                     step step guide invest share market  \n",
              "1       would happen indian government stole kohinoor ...  \n",
              "2                    internet speed increased hacking dns  \n",
              "3            find remainder math 23 24 math divided 24 23  \n",
              "4                           fish would survive salt water  \n",
              "...                                                   ...  \n",
              "404285  many keywords perl programming language latest...  \n",
              "404286                                    true life death  \n",
              "404287                                               coin  \n",
              "404288  little hairfall problem want use hair styling ...  \n",
              "404289                                    like sex cousin  \n",
              "\n",
              "[404287 rows x 2 columns]"
            ],
            "text/html": [
              "\n",
              "  <div id=\"df-6a3a424e-9e58-48d2-942d-20ecf944bf54\">\n",
              "    <div class=\"colab-df-container\">\n",
              "      <div>\n",
              "<style scoped>\n",
              "    .dataframe tbody tr th:only-of-type {\n",
              "        vertical-align: middle;\n",
              "    }\n",
              "\n",
              "    .dataframe tbody tr th {\n",
              "        vertical-align: top;\n",
              "    }\n",
              "\n",
              "    .dataframe thead th {\n",
              "        text-align: right;\n",
              "    }\n",
              "</style>\n",
              "<table border=\"1\" class=\"dataframe\">\n",
              "  <thead>\n",
              "    <tr style=\"text-align: right;\">\n",
              "      <th></th>\n",
              "      <th>clean_ques1</th>\n",
              "      <th>clean_ques2</th>\n",
              "    </tr>\n",
              "  </thead>\n",
              "  <tbody>\n",
              "    <tr>\n",
              "      <th>0</th>\n",
              "      <td>step step guide invest share market india</td>\n",
              "      <td>step step guide invest share market</td>\n",
              "    </tr>\n",
              "    <tr>\n",
              "      <th>1</th>\n",
              "      <td>story kohinoor koh noor diamond</td>\n",
              "      <td>would happen indian government stole kohinoor ...</td>\n",
              "    </tr>\n",
              "    <tr>\n",
              "      <th>2</th>\n",
              "      <td>increase speed internet connection using vpn</td>\n",
              "      <td>internet speed increased hacking dns</td>\n",
              "    </tr>\n",
              "    <tr>\n",
              "      <th>3</th>\n",
              "      <td>mentally lonely solve</td>\n",
              "      <td>find remainder math 23 24 math divided 24 23</td>\n",
              "    </tr>\n",
              "    <tr>\n",
              "      <th>4</th>\n",
              "      <td>one dissolve water quikly sugar salt methane c...</td>\n",
              "      <td>fish would survive salt water</td>\n",
              "    </tr>\n",
              "    <tr>\n",
              "      <th>...</th>\n",
              "      <td>...</td>\n",
              "      <td>...</td>\n",
              "    </tr>\n",
              "    <tr>\n",
              "      <th>404285</th>\n",
              "      <td>many keywords racket programming language late...</td>\n",
              "      <td>many keywords perl programming language latest...</td>\n",
              "    </tr>\n",
              "    <tr>\n",
              "      <th>404286</th>\n",
              "      <td>believe life death</td>\n",
              "      <td>true life death</td>\n",
              "    </tr>\n",
              "    <tr>\n",
              "      <th>404287</th>\n",
              "      <td>one coin</td>\n",
              "      <td>coin</td>\n",
              "    </tr>\n",
              "    <tr>\n",
              "      <th>404288</th>\n",
              "      <td>approx annual cost living studying uic chicago...</td>\n",
              "      <td>little hairfall problem want use hair styling ...</td>\n",
              "    </tr>\n",
              "    <tr>\n",
              "      <th>404289</th>\n",
              "      <td>like sex cousin</td>\n",
              "      <td>like sex cousin</td>\n",
              "    </tr>\n",
              "  </tbody>\n",
              "</table>\n",
              "<p>404287 rows × 2 columns</p>\n",
              "</div>\n",
              "      <button class=\"colab-df-convert\" onclick=\"convertToInteractive('df-6a3a424e-9e58-48d2-942d-20ecf944bf54')\"\n",
              "              title=\"Convert this dataframe to an interactive table.\"\n",
              "              style=\"display:none;\">\n",
              "        \n",
              "  <svg xmlns=\"http://www.w3.org/2000/svg\" height=\"24px\"viewBox=\"0 0 24 24\"\n",
              "       width=\"24px\">\n",
              "    <path d=\"M0 0h24v24H0V0z\" fill=\"none\"/>\n",
              "    <path d=\"M18.56 5.44l.94 2.06.94-2.06 2.06-.94-2.06-.94-.94-2.06-.94 2.06-2.06.94zm-11 1L8.5 8.5l.94-2.06 2.06-.94-2.06-.94L8.5 2.5l-.94 2.06-2.06.94zm10 10l.94 2.06.94-2.06 2.06-.94-2.06-.94-.94-2.06-.94 2.06-2.06.94z\"/><path d=\"M17.41 7.96l-1.37-1.37c-.4-.4-.92-.59-1.43-.59-.52 0-1.04.2-1.43.59L10.3 9.45l-7.72 7.72c-.78.78-.78 2.05 0 2.83L4 21.41c.39.39.9.59 1.41.59.51 0 1.02-.2 1.41-.59l7.78-7.78 2.81-2.81c.8-.78.8-2.07 0-2.86zM5.41 20L4 18.59l7.72-7.72 1.47 1.35L5.41 20z\"/>\n",
              "  </svg>\n",
              "      </button>\n",
              "      \n",
              "  <style>\n",
              "    .colab-df-container {\n",
              "      display:flex;\n",
              "      flex-wrap:wrap;\n",
              "      gap: 12px;\n",
              "    }\n",
              "\n",
              "    .colab-df-convert {\n",
              "      background-color: #E8F0FE;\n",
              "      border: none;\n",
              "      border-radius: 50%;\n",
              "      cursor: pointer;\n",
              "      display: none;\n",
              "      fill: #1967D2;\n",
              "      height: 32px;\n",
              "      padding: 0 0 0 0;\n",
              "      width: 32px;\n",
              "    }\n",
              "\n",
              "    .colab-df-convert:hover {\n",
              "      background-color: #E2EBFA;\n",
              "      box-shadow: 0px 1px 2px rgba(60, 64, 67, 0.3), 0px 1px 3px 1px rgba(60, 64, 67, 0.15);\n",
              "      fill: #174EA6;\n",
              "    }\n",
              "\n",
              "    [theme=dark] .colab-df-convert {\n",
              "      background-color: #3B4455;\n",
              "      fill: #D2E3FC;\n",
              "    }\n",
              "\n",
              "    [theme=dark] .colab-df-convert:hover {\n",
              "      background-color: #434B5C;\n",
              "      box-shadow: 0px 1px 3px 1px rgba(0, 0, 0, 0.15);\n",
              "      filter: drop-shadow(0px 1px 2px rgba(0, 0, 0, 0.3));\n",
              "      fill: #FFFFFF;\n",
              "    }\n",
              "  </style>\n",
              "\n",
              "      <script>\n",
              "        const buttonEl =\n",
              "          document.querySelector('#df-6a3a424e-9e58-48d2-942d-20ecf944bf54 button.colab-df-convert');\n",
              "        buttonEl.style.display =\n",
              "          google.colab.kernel.accessAllowed ? 'block' : 'none';\n",
              "\n",
              "        async function convertToInteractive(key) {\n",
              "          const element = document.querySelector('#df-6a3a424e-9e58-48d2-942d-20ecf944bf54');\n",
              "          const dataTable =\n",
              "            await google.colab.kernel.invokeFunction('convertToInteractive',\n",
              "                                                     [key], {});\n",
              "          if (!dataTable) return;\n",
              "\n",
              "          const docLinkHtml = 'Like what you see? Visit the ' +\n",
              "            '<a target=\"_blank\" href=https://colab.research.google.com/notebooks/data_table.ipynb>data table notebook</a>'\n",
              "            + ' to learn more about interactive tables.';\n",
              "          element.innerHTML = '';\n",
              "          dataTable['output_type'] = 'display_data';\n",
              "          await google.colab.output.renderOutput(dataTable, element);\n",
              "          const docLink = document.createElement('div');\n",
              "          docLink.innerHTML = docLinkHtml;\n",
              "          element.appendChild(docLink);\n",
              "        }\n",
              "      </script>\n",
              "    </div>\n",
              "  </div>\n",
              "  "
            ]
          },
          "metadata": {},
          "execution_count": 16
        }
      ],
      "source": [
        "quora"
      ]
    },
    {
      "cell_type": "code",
      "execution_count": null,
      "metadata": {
        "id": "1iBDgXd9LUgt"
      },
      "outputs": [],
      "source": [
        "def vectorize(sentence):\n",
        "\n",
        "    words = sentence.split()\n",
        "    words_vecs = [w2v_model.wv[word] for word in words if word in w2v_model.wv]\n",
        "    if len(words_vecs) == 0:\n",
        "        return [0,0,0]\n",
        "    else:\n",
        "        words_vecs = np.array(words_vecs)\n",
        "        mean = np.mean(words_vecs)\n",
        "        max = np.max(words_vecs)\n",
        "        s_dev = np.std(words_vecs)\n",
        "        matrix =[mean,max,s_dev]\n",
        "        return matrix"
      ]
    },
    {
      "cell_type": "code",
      "execution_count": null,
      "metadata": {
        "id": "MIpDHERv5hs9"
      },
      "outputs": [],
      "source": [
        "%%capture\n",
        "mvec1 =[vectorize(str(sentence)) for sentence in quora['clean_ques1']]\n",
        "mvec2 =[vectorize(str(sentence)) for sentence in quora['clean_ques2']]"
      ]
    },
    {
      "cell_type": "code",
      "execution_count": null,
      "metadata": {
        "colab": {
          "base_uri": "https://localhost:8080/"
        },
        "id": "4fGtESfJFWh2",
        "outputId": "5f74d756-563e-4ebe-a0d7-8b483ad8879d"
      },
      "outputs": [
        {
          "output_type": "execute_result",
          "data": {
            "text/plain": [
              "[[-0.0051325737, 4.7553835, 1.1091677],\n",
              " [-0.031472564, 3.9654427, 0.947091],\n",
              " [0.0136001455, 4.296773, 0.9236643],\n",
              " [0.0398254, 3.6163757, 1.0142993],\n",
              " [0.019904548, 3.95153, 1.0652919],\n",
              " [0.037007947, 3.2627175, 0.78030556],\n",
              " [0.0048228605, 4.4036756, 1.1413445],\n",
              " [0.0194254, 1.9489518, 0.67471415],\n",
              " [0.032034352, 3.3797626, 1.0163584],\n",
              " [-0.013064377, 3.120195, 0.9287545]]"
            ]
          },
          "metadata": {},
          "execution_count": 19
        }
      ],
      "source": [
        "mvec2[:10]"
      ]
    },
    {
      "cell_type": "code",
      "execution_count": null,
      "metadata": {
        "colab": {
          "base_uri": "https://localhost:8080/",
          "height": 423
        },
        "id": "lThW8R59DyrU",
        "outputId": "5451b655-8136-45d2-b5b4-b118082c015c"
      },
      "outputs": [
        {
          "output_type": "execute_result",
          "data": {
            "text/plain": [
              "        np_mean1   np_max1  np_sdev1\n",
              "0       0.000578  4.755383  1.112135\n",
              "1      -0.032686  2.257829  0.560091\n",
              "2       0.003926  4.296773  1.110729\n",
              "3       0.012606  3.302940  0.805760\n",
              "4       0.025703  3.951530  0.754999\n",
              "...          ...       ...       ...\n",
              "404285 -0.040875  5.091415  1.108952\n",
              "404286  0.064426  3.037858  1.206777\n",
              "404287  0.001542  2.492234  0.959265\n",
              "404288  0.002752  3.965443  1.039506\n",
              "404289  0.171995  3.502564  0.967588\n",
              "\n",
              "[404287 rows x 3 columns]"
            ],
            "text/html": [
              "\n",
              "  <div id=\"df-169779db-defd-4499-b8ff-24c525459cb1\">\n",
              "    <div class=\"colab-df-container\">\n",
              "      <div>\n",
              "<style scoped>\n",
              "    .dataframe tbody tr th:only-of-type {\n",
              "        vertical-align: middle;\n",
              "    }\n",
              "\n",
              "    .dataframe tbody tr th {\n",
              "        vertical-align: top;\n",
              "    }\n",
              "\n",
              "    .dataframe thead th {\n",
              "        text-align: right;\n",
              "    }\n",
              "</style>\n",
              "<table border=\"1\" class=\"dataframe\">\n",
              "  <thead>\n",
              "    <tr style=\"text-align: right;\">\n",
              "      <th></th>\n",
              "      <th>np_mean1</th>\n",
              "      <th>np_max1</th>\n",
              "      <th>np_sdev1</th>\n",
              "    </tr>\n",
              "  </thead>\n",
              "  <tbody>\n",
              "    <tr>\n",
              "      <th>0</th>\n",
              "      <td>0.000578</td>\n",
              "      <td>4.755383</td>\n",
              "      <td>1.112135</td>\n",
              "    </tr>\n",
              "    <tr>\n",
              "      <th>1</th>\n",
              "      <td>-0.032686</td>\n",
              "      <td>2.257829</td>\n",
              "      <td>0.560091</td>\n",
              "    </tr>\n",
              "    <tr>\n",
              "      <th>2</th>\n",
              "      <td>0.003926</td>\n",
              "      <td>4.296773</td>\n",
              "      <td>1.110729</td>\n",
              "    </tr>\n",
              "    <tr>\n",
              "      <th>3</th>\n",
              "      <td>0.012606</td>\n",
              "      <td>3.302940</td>\n",
              "      <td>0.805760</td>\n",
              "    </tr>\n",
              "    <tr>\n",
              "      <th>4</th>\n",
              "      <td>0.025703</td>\n",
              "      <td>3.951530</td>\n",
              "      <td>0.754999</td>\n",
              "    </tr>\n",
              "    <tr>\n",
              "      <th>...</th>\n",
              "      <td>...</td>\n",
              "      <td>...</td>\n",
              "      <td>...</td>\n",
              "    </tr>\n",
              "    <tr>\n",
              "      <th>404285</th>\n",
              "      <td>-0.040875</td>\n",
              "      <td>5.091415</td>\n",
              "      <td>1.108952</td>\n",
              "    </tr>\n",
              "    <tr>\n",
              "      <th>404286</th>\n",
              "      <td>0.064426</td>\n",
              "      <td>3.037858</td>\n",
              "      <td>1.206777</td>\n",
              "    </tr>\n",
              "    <tr>\n",
              "      <th>404287</th>\n",
              "      <td>0.001542</td>\n",
              "      <td>2.492234</td>\n",
              "      <td>0.959265</td>\n",
              "    </tr>\n",
              "    <tr>\n",
              "      <th>404288</th>\n",
              "      <td>0.002752</td>\n",
              "      <td>3.965443</td>\n",
              "      <td>1.039506</td>\n",
              "    </tr>\n",
              "    <tr>\n",
              "      <th>404289</th>\n",
              "      <td>0.171995</td>\n",
              "      <td>3.502564</td>\n",
              "      <td>0.967588</td>\n",
              "    </tr>\n",
              "  </tbody>\n",
              "</table>\n",
              "<p>404287 rows × 3 columns</p>\n",
              "</div>\n",
              "      <button class=\"colab-df-convert\" onclick=\"convertToInteractive('df-169779db-defd-4499-b8ff-24c525459cb1')\"\n",
              "              title=\"Convert this dataframe to an interactive table.\"\n",
              "              style=\"display:none;\">\n",
              "        \n",
              "  <svg xmlns=\"http://www.w3.org/2000/svg\" height=\"24px\"viewBox=\"0 0 24 24\"\n",
              "       width=\"24px\">\n",
              "    <path d=\"M0 0h24v24H0V0z\" fill=\"none\"/>\n",
              "    <path d=\"M18.56 5.44l.94 2.06.94-2.06 2.06-.94-2.06-.94-.94-2.06-.94 2.06-2.06.94zm-11 1L8.5 8.5l.94-2.06 2.06-.94-2.06-.94L8.5 2.5l-.94 2.06-2.06.94zm10 10l.94 2.06.94-2.06 2.06-.94-2.06-.94-.94-2.06-.94 2.06-2.06.94z\"/><path d=\"M17.41 7.96l-1.37-1.37c-.4-.4-.92-.59-1.43-.59-.52 0-1.04.2-1.43.59L10.3 9.45l-7.72 7.72c-.78.78-.78 2.05 0 2.83L4 21.41c.39.39.9.59 1.41.59.51 0 1.02-.2 1.41-.59l7.78-7.78 2.81-2.81c.8-.78.8-2.07 0-2.86zM5.41 20L4 18.59l7.72-7.72 1.47 1.35L5.41 20z\"/>\n",
              "  </svg>\n",
              "      </button>\n",
              "      \n",
              "  <style>\n",
              "    .colab-df-container {\n",
              "      display:flex;\n",
              "      flex-wrap:wrap;\n",
              "      gap: 12px;\n",
              "    }\n",
              "\n",
              "    .colab-df-convert {\n",
              "      background-color: #E8F0FE;\n",
              "      border: none;\n",
              "      border-radius: 50%;\n",
              "      cursor: pointer;\n",
              "      display: none;\n",
              "      fill: #1967D2;\n",
              "      height: 32px;\n",
              "      padding: 0 0 0 0;\n",
              "      width: 32px;\n",
              "    }\n",
              "\n",
              "    .colab-df-convert:hover {\n",
              "      background-color: #E2EBFA;\n",
              "      box-shadow: 0px 1px 2px rgba(60, 64, 67, 0.3), 0px 1px 3px 1px rgba(60, 64, 67, 0.15);\n",
              "      fill: #174EA6;\n",
              "    }\n",
              "\n",
              "    [theme=dark] .colab-df-convert {\n",
              "      background-color: #3B4455;\n",
              "      fill: #D2E3FC;\n",
              "    }\n",
              "\n",
              "    [theme=dark] .colab-df-convert:hover {\n",
              "      background-color: #434B5C;\n",
              "      box-shadow: 0px 1px 3px 1px rgba(0, 0, 0, 0.15);\n",
              "      filter: drop-shadow(0px 1px 2px rgba(0, 0, 0, 0.3));\n",
              "      fill: #FFFFFF;\n",
              "    }\n",
              "  </style>\n",
              "\n",
              "      <script>\n",
              "        const buttonEl =\n",
              "          document.querySelector('#df-169779db-defd-4499-b8ff-24c525459cb1 button.colab-df-convert');\n",
              "        buttonEl.style.display =\n",
              "          google.colab.kernel.accessAllowed ? 'block' : 'none';\n",
              "\n",
              "        async function convertToInteractive(key) {\n",
              "          const element = document.querySelector('#df-169779db-defd-4499-b8ff-24c525459cb1');\n",
              "          const dataTable =\n",
              "            await google.colab.kernel.invokeFunction('convertToInteractive',\n",
              "                                                     [key], {});\n",
              "          if (!dataTable) return;\n",
              "\n",
              "          const docLinkHtml = 'Like what you see? Visit the ' +\n",
              "            '<a target=\"_blank\" href=https://colab.research.google.com/notebooks/data_table.ipynb>data table notebook</a>'\n",
              "            + ' to learn more about interactive tables.';\n",
              "          element.innerHTML = '';\n",
              "          dataTable['output_type'] = 'display_data';\n",
              "          await google.colab.output.renderOutput(dataTable, element);\n",
              "          const docLink = document.createElement('div');\n",
              "          docLink.innerHTML = docLinkHtml;\n",
              "          element.appendChild(docLink);\n",
              "        }\n",
              "      </script>\n",
              "    </div>\n",
              "  </div>\n",
              "  "
            ]
          },
          "metadata": {},
          "execution_count": 20
        }
      ],
      "source": [
        "df1 = pd.DataFrame(mvec1,index = quora.index,columns= ['np_mean1','np_max1','np_sdev1'])\n",
        "df1"
      ]
    },
    {
      "cell_type": "code",
      "execution_count": null,
      "metadata": {
        "colab": {
          "base_uri": "https://localhost:8080/",
          "height": 423
        },
        "id": "E83OcIUhJYdp",
        "outputId": "646d3ed1-65a2-4cab-fc7a-8fef1423a93f"
      },
      "outputs": [
        {
          "output_type": "execute_result",
          "data": {
            "text/plain": [
              "        np_mean2   np_max2  np_sdev2\n",
              "0      -0.005133  4.755383  1.109168\n",
              "1      -0.031473  3.965443  0.947091\n",
              "2       0.013600  4.296773  0.923664\n",
              "3       0.039825  3.616376  1.014299\n",
              "4       0.019905  3.951530  1.065292\n",
              "...          ...       ...       ...\n",
              "404285 -0.037928  5.091415  1.107216\n",
              "404286  0.072170  3.037858  1.139187\n",
              "404287 -0.051143  2.268003  0.936153\n",
              "404288  0.051839  3.441447  0.952073\n",
              "404289  0.171995  3.502564  0.967588\n",
              "\n",
              "[404287 rows x 3 columns]"
            ],
            "text/html": [
              "\n",
              "  <div id=\"df-01a54ebd-1ad3-4343-9801-742426b048a4\">\n",
              "    <div class=\"colab-df-container\">\n",
              "      <div>\n",
              "<style scoped>\n",
              "    .dataframe tbody tr th:only-of-type {\n",
              "        vertical-align: middle;\n",
              "    }\n",
              "\n",
              "    .dataframe tbody tr th {\n",
              "        vertical-align: top;\n",
              "    }\n",
              "\n",
              "    .dataframe thead th {\n",
              "        text-align: right;\n",
              "    }\n",
              "</style>\n",
              "<table border=\"1\" class=\"dataframe\">\n",
              "  <thead>\n",
              "    <tr style=\"text-align: right;\">\n",
              "      <th></th>\n",
              "      <th>np_mean2</th>\n",
              "      <th>np_max2</th>\n",
              "      <th>np_sdev2</th>\n",
              "    </tr>\n",
              "  </thead>\n",
              "  <tbody>\n",
              "    <tr>\n",
              "      <th>0</th>\n",
              "      <td>-0.005133</td>\n",
              "      <td>4.755383</td>\n",
              "      <td>1.109168</td>\n",
              "    </tr>\n",
              "    <tr>\n",
              "      <th>1</th>\n",
              "      <td>-0.031473</td>\n",
              "      <td>3.965443</td>\n",
              "      <td>0.947091</td>\n",
              "    </tr>\n",
              "    <tr>\n",
              "      <th>2</th>\n",
              "      <td>0.013600</td>\n",
              "      <td>4.296773</td>\n",
              "      <td>0.923664</td>\n",
              "    </tr>\n",
              "    <tr>\n",
              "      <th>3</th>\n",
              "      <td>0.039825</td>\n",
              "      <td>3.616376</td>\n",
              "      <td>1.014299</td>\n",
              "    </tr>\n",
              "    <tr>\n",
              "      <th>4</th>\n",
              "      <td>0.019905</td>\n",
              "      <td>3.951530</td>\n",
              "      <td>1.065292</td>\n",
              "    </tr>\n",
              "    <tr>\n",
              "      <th>...</th>\n",
              "      <td>...</td>\n",
              "      <td>...</td>\n",
              "      <td>...</td>\n",
              "    </tr>\n",
              "    <tr>\n",
              "      <th>404285</th>\n",
              "      <td>-0.037928</td>\n",
              "      <td>5.091415</td>\n",
              "      <td>1.107216</td>\n",
              "    </tr>\n",
              "    <tr>\n",
              "      <th>404286</th>\n",
              "      <td>0.072170</td>\n",
              "      <td>3.037858</td>\n",
              "      <td>1.139187</td>\n",
              "    </tr>\n",
              "    <tr>\n",
              "      <th>404287</th>\n",
              "      <td>-0.051143</td>\n",
              "      <td>2.268003</td>\n",
              "      <td>0.936153</td>\n",
              "    </tr>\n",
              "    <tr>\n",
              "      <th>404288</th>\n",
              "      <td>0.051839</td>\n",
              "      <td>3.441447</td>\n",
              "      <td>0.952073</td>\n",
              "    </tr>\n",
              "    <tr>\n",
              "      <th>404289</th>\n",
              "      <td>0.171995</td>\n",
              "      <td>3.502564</td>\n",
              "      <td>0.967588</td>\n",
              "    </tr>\n",
              "  </tbody>\n",
              "</table>\n",
              "<p>404287 rows × 3 columns</p>\n",
              "</div>\n",
              "      <button class=\"colab-df-convert\" onclick=\"convertToInteractive('df-01a54ebd-1ad3-4343-9801-742426b048a4')\"\n",
              "              title=\"Convert this dataframe to an interactive table.\"\n",
              "              style=\"display:none;\">\n",
              "        \n",
              "  <svg xmlns=\"http://www.w3.org/2000/svg\" height=\"24px\"viewBox=\"0 0 24 24\"\n",
              "       width=\"24px\">\n",
              "    <path d=\"M0 0h24v24H0V0z\" fill=\"none\"/>\n",
              "    <path d=\"M18.56 5.44l.94 2.06.94-2.06 2.06-.94-2.06-.94-.94-2.06-.94 2.06-2.06.94zm-11 1L8.5 8.5l.94-2.06 2.06-.94-2.06-.94L8.5 2.5l-.94 2.06-2.06.94zm10 10l.94 2.06.94-2.06 2.06-.94-2.06-.94-.94-2.06-.94 2.06-2.06.94z\"/><path d=\"M17.41 7.96l-1.37-1.37c-.4-.4-.92-.59-1.43-.59-.52 0-1.04.2-1.43.59L10.3 9.45l-7.72 7.72c-.78.78-.78 2.05 0 2.83L4 21.41c.39.39.9.59 1.41.59.51 0 1.02-.2 1.41-.59l7.78-7.78 2.81-2.81c.8-.78.8-2.07 0-2.86zM5.41 20L4 18.59l7.72-7.72 1.47 1.35L5.41 20z\"/>\n",
              "  </svg>\n",
              "      </button>\n",
              "      \n",
              "  <style>\n",
              "    .colab-df-container {\n",
              "      display:flex;\n",
              "      flex-wrap:wrap;\n",
              "      gap: 12px;\n",
              "    }\n",
              "\n",
              "    .colab-df-convert {\n",
              "      background-color: #E8F0FE;\n",
              "      border: none;\n",
              "      border-radius: 50%;\n",
              "      cursor: pointer;\n",
              "      display: none;\n",
              "      fill: #1967D2;\n",
              "      height: 32px;\n",
              "      padding: 0 0 0 0;\n",
              "      width: 32px;\n",
              "    }\n",
              "\n",
              "    .colab-df-convert:hover {\n",
              "      background-color: #E2EBFA;\n",
              "      box-shadow: 0px 1px 2px rgba(60, 64, 67, 0.3), 0px 1px 3px 1px rgba(60, 64, 67, 0.15);\n",
              "      fill: #174EA6;\n",
              "    }\n",
              "\n",
              "    [theme=dark] .colab-df-convert {\n",
              "      background-color: #3B4455;\n",
              "      fill: #D2E3FC;\n",
              "    }\n",
              "\n",
              "    [theme=dark] .colab-df-convert:hover {\n",
              "      background-color: #434B5C;\n",
              "      box-shadow: 0px 1px 3px 1px rgba(0, 0, 0, 0.15);\n",
              "      filter: drop-shadow(0px 1px 2px rgba(0, 0, 0, 0.3));\n",
              "      fill: #FFFFFF;\n",
              "    }\n",
              "  </style>\n",
              "\n",
              "      <script>\n",
              "        const buttonEl =\n",
              "          document.querySelector('#df-01a54ebd-1ad3-4343-9801-742426b048a4 button.colab-df-convert');\n",
              "        buttonEl.style.display =\n",
              "          google.colab.kernel.accessAllowed ? 'block' : 'none';\n",
              "\n",
              "        async function convertToInteractive(key) {\n",
              "          const element = document.querySelector('#df-01a54ebd-1ad3-4343-9801-742426b048a4');\n",
              "          const dataTable =\n",
              "            await google.colab.kernel.invokeFunction('convertToInteractive',\n",
              "                                                     [key], {});\n",
              "          if (!dataTable) return;\n",
              "\n",
              "          const docLinkHtml = 'Like what you see? Visit the ' +\n",
              "            '<a target=\"_blank\" href=https://colab.research.google.com/notebooks/data_table.ipynb>data table notebook</a>'\n",
              "            + ' to learn more about interactive tables.';\n",
              "          element.innerHTML = '';\n",
              "          dataTable['output_type'] = 'display_data';\n",
              "          await google.colab.output.renderOutput(dataTable, element);\n",
              "          const docLink = document.createElement('div');\n",
              "          docLink.innerHTML = docLinkHtml;\n",
              "          element.appendChild(docLink);\n",
              "        }\n",
              "      </script>\n",
              "    </div>\n",
              "  </div>\n",
              "  "
            ]
          },
          "metadata": {},
          "execution_count": 21
        }
      ],
      "source": [
        "df2 = pd.DataFrame(mvec2,index = quora.index,columns= ['np_mean2','np_max2','np_sdev2'])\n",
        "df2"
      ]
    },
    {
      "cell_type": "code",
      "execution_count": null,
      "metadata": {
        "id": "_jl1BQ5y5XqR"
      },
      "outputs": [],
      "source": [
        "def np_vectorize(sentence):\n",
        "    words = sentence.split()\n",
        "    words_vecs = [w2v_model.wv[word] for word in words if word in w2v_model.wv]\n",
        "    if len(words_vecs) == 0:\n",
        "        return np.zeros(100)\n",
        "    words_vecs = np.array(words_vecs)\n",
        "    return words_vecs.mean(axis=0)"
      ]
    },
    {
      "cell_type": "code",
      "execution_count": null,
      "metadata": {
        "id": "i5m8zPdIQYKx"
      },
      "outputs": [],
      "source": [
        "%%capture\n",
        "vec1 = [np_vectorize(str(sentence)) for sentence in quora['clean_ques1']]\n",
        "vec2 = [np_vectorize(str(sentence)) for sentence in quora['clean_ques2']]"
      ]
    },
    {
      "cell_type": "code",
      "execution_count": null,
      "metadata": {
        "colab": {
          "base_uri": "https://localhost:8080/"
        },
        "id": "JcvzN1q16sFA",
        "outputId": "ce7724fb-f140-408d-ad03-a4cfdb35961f"
      },
      "outputs": [
        {
          "output_type": "stream",
          "name": "stdout",
          "text": [
            "         0         1         2         3         4         5         6   \\\n",
            "0  0.038798  0.717556 -0.547127 -0.279182  0.587376  0.271549  0.437097   \n",
            "1  0.314213  0.331498  0.229546 -0.258296  0.230136 -0.242527  0.303510   \n",
            "2 -0.946713 -0.125440  0.574405  0.313725 -0.297812  0.530288 -0.095012   \n",
            "3 -0.030368 -0.029589 -0.243564 -0.196974 -0.188907  0.254977  0.311459   \n",
            "4 -0.275200  0.495546  0.095934  0.083510 -0.053656 -0.447153 -0.093474   \n",
            "\n",
            "         7         8         9   ...        90        91        92        93  \\\n",
            "0 -0.148573  0.202758  0.163887  ... -0.078344 -0.410082  0.977331  0.882488   \n",
            "1  0.577362  0.262574  0.091331  ...  0.325321  0.070160  0.391909  0.203539   \n",
            "2 -0.699091 -0.285327  1.081079  ...  0.350346  1.062371 -0.863567  0.929075   \n",
            "3  0.209171 -0.110029 -0.581827  ...  0.114630  0.582214 -0.073479  0.263651   \n",
            "4  0.590240 -0.322908  0.453425  ...  0.264770  0.198744 -0.134297 -0.024593   \n",
            "\n",
            "         94        95        96        97        98        99  \n",
            "0  0.655044  1.272473 -0.755417  0.788934  0.160233 -0.438324  \n",
            "1  0.226625 -0.106634  0.146455 -0.170727 -0.322687 -0.189855  \n",
            "2  0.031348  1.410653 -0.056520  1.469255  0.678178 -0.645259  \n",
            "3  0.105954  0.444554 -0.048067  0.411283  0.437449  0.036399  \n",
            "4  0.114991  0.761881  0.366407  0.008942  0.187010  0.159691  \n",
            "\n",
            "[5 rows x 100 columns]\n",
            "         0         1         2         3         4         5         6   \\\n",
            "0  0.147624  0.780567 -0.116131 -0.266782  0.519118  0.113242  0.532176   \n",
            "1  0.105459  0.269779 -0.022956  0.360912  0.439446  0.170039 -0.232475   \n",
            "2 -0.638391 -0.244744  0.400494  0.435887  0.042436  0.718979  0.117453   \n",
            "3 -0.021608 -0.056655  0.814952 -1.372551  1.795859 -0.024261  0.571505   \n",
            "4 -0.166530  0.399310  0.316421  0.574424  0.424914 -0.113776 -0.074540   \n",
            "\n",
            "         7         8         9   ...        90        91        92        93  \\\n",
            "0  0.074211  0.072077  0.137549  ...  0.299953 -0.403481  1.067288  0.812995   \n",
            "1  0.296328  0.471210 -0.242894  ... -0.162934  0.074871  0.538224  0.956488   \n",
            "2 -0.140065 -0.461049  0.822410  ...  0.064437  0.536212 -0.326976  0.576991   \n",
            "3 -0.454510  0.290101  0.114944  ...  0.442791  0.551145  0.305583  1.198292   \n",
            "4  0.987464 -0.076201  0.557665  ... -0.068765  0.132721  0.100048  0.100123   \n",
            "\n",
            "         94        95        96        97        98        99  \n",
            "0  0.608848  1.194738 -0.929530  0.636571  0.060470 -0.284853  \n",
            "1 -0.178107  0.618794 -0.323711  0.018381  0.128659  0.026985  \n",
            "2 -0.324447  1.337669  0.295700  1.012254  0.647503 -0.425248  \n",
            "3  0.665051  0.276205 -0.730551  0.699930 -0.391388  0.647760  \n",
            "4 -0.459255  1.484291  0.159626 -0.412202  0.605216  0.174764  \n",
            "\n",
            "[5 rows x 100 columns]\n"
          ]
        }
      ],
      "source": [
        "temp_df1 = pd.DataFrame(vec1,index=quora.index)\n",
        "temp_df2 = pd.DataFrame(vec2,index=quora.index)\n",
        "print(temp_df1.head())\n",
        "print(temp_df2.head())\n"
      ]
    },
    {
      "cell_type": "markdown",
      "metadata": {
        "id": "FBzshyLCdftR"
      },
      "source": [
        "New Code using 100 vector representation"
      ]
    },
    {
      "cell_type": "code",
      "execution_count": null,
      "metadata": {
        "id": "47NC9UJGrs60"
      },
      "outputs": [],
      "source": [
        "quora['q1_len'] = quora['clean_ques1'].str.len()\n",
        "quora['q2_len'] = quora['clean_ques2'].str.len()"
      ]
    },
    {
      "cell_type": "code",
      "execution_count": null,
      "metadata": {
        "id": "irW3CgdAbJuF"
      },
      "outputs": [],
      "source": [
        "quora['q1_num_words'] = quora['clean_ques1'].apply(lambda row: len(row.split(\" \")))\n",
        "quora['q2_num_words'] = quora['clean_ques2'].apply(lambda row: len(row.split(\" \")))"
      ]
    },
    {
      "cell_type": "code",
      "execution_count": null,
      "metadata": {
        "id": "cnaCQqORbUAW"
      },
      "outputs": [],
      "source": [
        "def common_words(row):\n",
        "     w1 = set(map(lambda word: word.lower().strip(), row['clean_ques1'].split(\" \")))\n",
        "     w2 = set(map(lambda word: word.lower().strip(), row['clean_ques2'].split(\" \")))\n",
        "     return len(w1 & w2)"
      ]
    },
    {
      "cell_type": "code",
      "execution_count": null,
      "metadata": {
        "id": "_RaaYKN2bYJy"
      },
      "outputs": [],
      "source": [
        "quora['word_common'] = quora.apply(common_words, axis=1)"
      ]
    },
    {
      "cell_type": "code",
      "execution_count": null,
      "metadata": {
        "id": "q_Jbxw4EbdX9"
      },
      "outputs": [],
      "source": [
        "def total_words(row):\n",
        "     w1 = set(map(lambda word: word.lower().strip(), row['clean_ques1'].split(\" \")))\n",
        "     w2 = set(map(lambda word: word.lower().strip(), row['clean_ques2'].split(\" \")))\n",
        "     return (len(w1) + len(w2))"
      ]
    },
    {
      "cell_type": "code",
      "execution_count": null,
      "metadata": {
        "id": "KCI4g6GCbeJE"
      },
      "outputs": [],
      "source": [
        "quora['word_total'] = quora.apply(total_words, axis=1)"
      ]
    },
    {
      "cell_type": "code",
      "execution_count": null,
      "metadata": {
        "id": "Ualyd5mUblXR"
      },
      "outputs": [],
      "source": [
        "quora['word_share'] = round(quora['word_common']/quora['word_total'],2)"
      ]
    },
    {
      "cell_type": "code",
      "execution_count": null,
      "metadata": {
        "id": "gq2QnvPN_jN0"
      },
      "outputs": [],
      "source": [
        "quora.drop(columns = ['clean_ques1','clean_ques2'],inplace = True)"
      ]
    },
    {
      "cell_type": "code",
      "execution_count": null,
      "metadata": {
        "colab": {
          "base_uri": "https://localhost:8080/",
          "height": 423
        },
        "id": "SRs2MlSaAqoY",
        "outputId": "4e1c42fb-f4ca-4b28-91f3-932cdb021e1c"
      },
      "outputs": [
        {
          "output_type": "execute_result",
          "data": {
            "text/plain": [
              "        q1_len  q2_len  q1_num_words  q2_num_words  word_common  word_total  \\\n",
              "0           41      35             7             6            5          11   \n",
              "1           31      67             5            10            4          15   \n",
              "2           44      36             6             5            2          11   \n",
              "3           21      44             3             9            0           9   \n",
              "4           60      29            10             5            2          15   \n",
              "...        ...     ...           ...           ...          ...         ...   \n",
              "404285      56      54             7             7            6          14   \n",
              "404286      18      15             3             3            2           6   \n",
              "404287       8       4             2             1            1           3   \n",
              "404288      61      77             9            13            0          22   \n",
              "404289      15      15             3             3            3           6   \n",
              "\n",
              "        word_share  \n",
              "0             0.45  \n",
              "1             0.27  \n",
              "2             0.18  \n",
              "3             0.00  \n",
              "4             0.13  \n",
              "...            ...  \n",
              "404285        0.43  \n",
              "404286        0.33  \n",
              "404287        0.33  \n",
              "404288        0.00  \n",
              "404289        0.50  \n",
              "\n",
              "[404287 rows x 7 columns]"
            ],
            "text/html": [
              "\n",
              "  <div id=\"df-e2e43d2a-409e-467b-b38f-c3683b25dd1a\">\n",
              "    <div class=\"colab-df-container\">\n",
              "      <div>\n",
              "<style scoped>\n",
              "    .dataframe tbody tr th:only-of-type {\n",
              "        vertical-align: middle;\n",
              "    }\n",
              "\n",
              "    .dataframe tbody tr th {\n",
              "        vertical-align: top;\n",
              "    }\n",
              "\n",
              "    .dataframe thead th {\n",
              "        text-align: right;\n",
              "    }\n",
              "</style>\n",
              "<table border=\"1\" class=\"dataframe\">\n",
              "  <thead>\n",
              "    <tr style=\"text-align: right;\">\n",
              "      <th></th>\n",
              "      <th>q1_len</th>\n",
              "      <th>q2_len</th>\n",
              "      <th>q1_num_words</th>\n",
              "      <th>q2_num_words</th>\n",
              "      <th>word_common</th>\n",
              "      <th>word_total</th>\n",
              "      <th>word_share</th>\n",
              "    </tr>\n",
              "  </thead>\n",
              "  <tbody>\n",
              "    <tr>\n",
              "      <th>0</th>\n",
              "      <td>41</td>\n",
              "      <td>35</td>\n",
              "      <td>7</td>\n",
              "      <td>6</td>\n",
              "      <td>5</td>\n",
              "      <td>11</td>\n",
              "      <td>0.45</td>\n",
              "    </tr>\n",
              "    <tr>\n",
              "      <th>1</th>\n",
              "      <td>31</td>\n",
              "      <td>67</td>\n",
              "      <td>5</td>\n",
              "      <td>10</td>\n",
              "      <td>4</td>\n",
              "      <td>15</td>\n",
              "      <td>0.27</td>\n",
              "    </tr>\n",
              "    <tr>\n",
              "      <th>2</th>\n",
              "      <td>44</td>\n",
              "      <td>36</td>\n",
              "      <td>6</td>\n",
              "      <td>5</td>\n",
              "      <td>2</td>\n",
              "      <td>11</td>\n",
              "      <td>0.18</td>\n",
              "    </tr>\n",
              "    <tr>\n",
              "      <th>3</th>\n",
              "      <td>21</td>\n",
              "      <td>44</td>\n",
              "      <td>3</td>\n",
              "      <td>9</td>\n",
              "      <td>0</td>\n",
              "      <td>9</td>\n",
              "      <td>0.00</td>\n",
              "    </tr>\n",
              "    <tr>\n",
              "      <th>4</th>\n",
              "      <td>60</td>\n",
              "      <td>29</td>\n",
              "      <td>10</td>\n",
              "      <td>5</td>\n",
              "      <td>2</td>\n",
              "      <td>15</td>\n",
              "      <td>0.13</td>\n",
              "    </tr>\n",
              "    <tr>\n",
              "      <th>...</th>\n",
              "      <td>...</td>\n",
              "      <td>...</td>\n",
              "      <td>...</td>\n",
              "      <td>...</td>\n",
              "      <td>...</td>\n",
              "      <td>...</td>\n",
              "      <td>...</td>\n",
              "    </tr>\n",
              "    <tr>\n",
              "      <th>404285</th>\n",
              "      <td>56</td>\n",
              "      <td>54</td>\n",
              "      <td>7</td>\n",
              "      <td>7</td>\n",
              "      <td>6</td>\n",
              "      <td>14</td>\n",
              "      <td>0.43</td>\n",
              "    </tr>\n",
              "    <tr>\n",
              "      <th>404286</th>\n",
              "      <td>18</td>\n",
              "      <td>15</td>\n",
              "      <td>3</td>\n",
              "      <td>3</td>\n",
              "      <td>2</td>\n",
              "      <td>6</td>\n",
              "      <td>0.33</td>\n",
              "    </tr>\n",
              "    <tr>\n",
              "      <th>404287</th>\n",
              "      <td>8</td>\n",
              "      <td>4</td>\n",
              "      <td>2</td>\n",
              "      <td>1</td>\n",
              "      <td>1</td>\n",
              "      <td>3</td>\n",
              "      <td>0.33</td>\n",
              "    </tr>\n",
              "    <tr>\n",
              "      <th>404288</th>\n",
              "      <td>61</td>\n",
              "      <td>77</td>\n",
              "      <td>9</td>\n",
              "      <td>13</td>\n",
              "      <td>0</td>\n",
              "      <td>22</td>\n",
              "      <td>0.00</td>\n",
              "    </tr>\n",
              "    <tr>\n",
              "      <th>404289</th>\n",
              "      <td>15</td>\n",
              "      <td>15</td>\n",
              "      <td>3</td>\n",
              "      <td>3</td>\n",
              "      <td>3</td>\n",
              "      <td>6</td>\n",
              "      <td>0.50</td>\n",
              "    </tr>\n",
              "  </tbody>\n",
              "</table>\n",
              "<p>404287 rows × 7 columns</p>\n",
              "</div>\n",
              "      <button class=\"colab-df-convert\" onclick=\"convertToInteractive('df-e2e43d2a-409e-467b-b38f-c3683b25dd1a')\"\n",
              "              title=\"Convert this dataframe to an interactive table.\"\n",
              "              style=\"display:none;\">\n",
              "        \n",
              "  <svg xmlns=\"http://www.w3.org/2000/svg\" height=\"24px\"viewBox=\"0 0 24 24\"\n",
              "       width=\"24px\">\n",
              "    <path d=\"M0 0h24v24H0V0z\" fill=\"none\"/>\n",
              "    <path d=\"M18.56 5.44l.94 2.06.94-2.06 2.06-.94-2.06-.94-.94-2.06-.94 2.06-2.06.94zm-11 1L8.5 8.5l.94-2.06 2.06-.94-2.06-.94L8.5 2.5l-.94 2.06-2.06.94zm10 10l.94 2.06.94-2.06 2.06-.94-2.06-.94-.94-2.06-.94 2.06-2.06.94z\"/><path d=\"M17.41 7.96l-1.37-1.37c-.4-.4-.92-.59-1.43-.59-.52 0-1.04.2-1.43.59L10.3 9.45l-7.72 7.72c-.78.78-.78 2.05 0 2.83L4 21.41c.39.39.9.59 1.41.59.51 0 1.02-.2 1.41-.59l7.78-7.78 2.81-2.81c.8-.78.8-2.07 0-2.86zM5.41 20L4 18.59l7.72-7.72 1.47 1.35L5.41 20z\"/>\n",
              "  </svg>\n",
              "      </button>\n",
              "      \n",
              "  <style>\n",
              "    .colab-df-container {\n",
              "      display:flex;\n",
              "      flex-wrap:wrap;\n",
              "      gap: 12px;\n",
              "    }\n",
              "\n",
              "    .colab-df-convert {\n",
              "      background-color: #E8F0FE;\n",
              "      border: none;\n",
              "      border-radius: 50%;\n",
              "      cursor: pointer;\n",
              "      display: none;\n",
              "      fill: #1967D2;\n",
              "      height: 32px;\n",
              "      padding: 0 0 0 0;\n",
              "      width: 32px;\n",
              "    }\n",
              "\n",
              "    .colab-df-convert:hover {\n",
              "      background-color: #E2EBFA;\n",
              "      box-shadow: 0px 1px 2px rgba(60, 64, 67, 0.3), 0px 1px 3px 1px rgba(60, 64, 67, 0.15);\n",
              "      fill: #174EA6;\n",
              "    }\n",
              "\n",
              "    [theme=dark] .colab-df-convert {\n",
              "      background-color: #3B4455;\n",
              "      fill: #D2E3FC;\n",
              "    }\n",
              "\n",
              "    [theme=dark] .colab-df-convert:hover {\n",
              "      background-color: #434B5C;\n",
              "      box-shadow: 0px 1px 3px 1px rgba(0, 0, 0, 0.15);\n",
              "      filter: drop-shadow(0px 1px 2px rgba(0, 0, 0, 0.3));\n",
              "      fill: #FFFFFF;\n",
              "    }\n",
              "  </style>\n",
              "\n",
              "      <script>\n",
              "        const buttonEl =\n",
              "          document.querySelector('#df-e2e43d2a-409e-467b-b38f-c3683b25dd1a button.colab-df-convert');\n",
              "        buttonEl.style.display =\n",
              "          google.colab.kernel.accessAllowed ? 'block' : 'none';\n",
              "\n",
              "        async function convertToInteractive(key) {\n",
              "          const element = document.querySelector('#df-e2e43d2a-409e-467b-b38f-c3683b25dd1a');\n",
              "          const dataTable =\n",
              "            await google.colab.kernel.invokeFunction('convertToInteractive',\n",
              "                                                     [key], {});\n",
              "          if (!dataTable) return;\n",
              "\n",
              "          const docLinkHtml = 'Like what you see? Visit the ' +\n",
              "            '<a target=\"_blank\" href=https://colab.research.google.com/notebooks/data_table.ipynb>data table notebook</a>'\n",
              "            + ' to learn more about interactive tables.';\n",
              "          element.innerHTML = '';\n",
              "          dataTable['output_type'] = 'display_data';\n",
              "          await google.colab.output.renderOutput(dataTable, element);\n",
              "          const docLink = document.createElement('div');\n",
              "          docLink.innerHTML = docLinkHtml;\n",
              "          element.appendChild(docLink);\n",
              "        }\n",
              "      </script>\n",
              "    </div>\n",
              "  </div>\n",
              "  "
            ]
          },
          "metadata": {},
          "execution_count": 33
        }
      ],
      "source": [
        "quora"
      ]
    },
    {
      "cell_type": "code",
      "execution_count": null,
      "metadata": {
        "id": "Zuv6HECm8QI2"
      },
      "outputs": [],
      "source": [
        "final_df = pd.concat([quora,df1,df2,temp_df1,temp_df2], axis=1)"
      ]
    },
    {
      "cell_type": "code",
      "execution_count": null,
      "metadata": {
        "colab": {
          "base_uri": "https://localhost:8080/"
        },
        "id": "bp3nFNFRGf45",
        "outputId": "4936c974-56f4-491c-d95c-b525b2de4591"
      },
      "outputs": [
        {
          "output_type": "execute_result",
          "data": {
            "text/plain": [
              "q1_len            int64\n",
              "q2_len            int64\n",
              "q1_num_words      int64\n",
              "q2_num_words      int64\n",
              "word_common       int64\n",
              "                 ...   \n",
              "95              float64\n",
              "96              float64\n",
              "97              float64\n",
              "98              float64\n",
              "99              float64\n",
              "Length: 213, dtype: object"
            ]
          },
          "metadata": {},
          "execution_count": 35
        }
      ],
      "source": [
        "final_df.dtypes"
      ]
    },
    {
      "cell_type": "code",
      "execution_count": null,
      "metadata": {
        "id": "urEqFIjKGvka"
      },
      "outputs": [],
      "source": [
        "final_df.columns = final_df.columns.astype(str)\n",
        "# quora['num_ques1'] = pd.to_numeric(quora['num_ques1'])\n",
        "# quora['num_ques2'] = pd.to_numeric(quora['num_ques2'])"
      ]
    },
    {
      "cell_type": "code",
      "execution_count": null,
      "metadata": {
        "colab": {
          "base_uri": "https://localhost:8080/",
          "height": 487
        },
        "id": "4QtSqsAHNjD1",
        "outputId": "65c012ce-d968-4b47-8620-a9d0bce8696e"
      },
      "outputs": [
        {
          "output_type": "execute_result",
          "data": {
            "text/plain": [
              "        q1_len  q2_len  q1_num_words  q2_num_words  word_common  word_total  \\\n",
              "0           41      35             7             6            5          11   \n",
              "1           31      67             5            10            4          15   \n",
              "2           44      36             6             5            2          11   \n",
              "3           21      44             3             9            0           9   \n",
              "4           60      29            10             5            2          15   \n",
              "...        ...     ...           ...           ...          ...         ...   \n",
              "404285      56      54             7             7            6          14   \n",
              "404286      18      15             3             3            2           6   \n",
              "404287       8       4             2             1            1           3   \n",
              "404288      61      77             9            13            0          22   \n",
              "404289      15      15             3             3            3           6   \n",
              "\n",
              "        word_share  np_mean1   np_max1  np_sdev1  ...        90        91  \\\n",
              "0             0.45  0.000578  4.755383  1.112135  ...  0.299953 -0.403481   \n",
              "1             0.27 -0.032686  2.257829  0.560091  ... -0.162934  0.074871   \n",
              "2             0.18  0.003926  4.296773  1.110729  ...  0.064437  0.536212   \n",
              "3             0.00  0.012606  3.302940  0.805760  ...  0.442791  0.551145   \n",
              "4             0.13  0.025703  3.951530  0.754999  ... -0.068765  0.132721   \n",
              "...            ...       ...       ...       ...  ...       ...       ...   \n",
              "404285        0.43 -0.040875  5.091415  1.108952  ... -0.537482  0.371346   \n",
              "404286        0.33  0.064426  3.037858  1.206777  ...  0.895260 -0.376621   \n",
              "404287        0.33  0.001542  2.492234  0.959265  ...  0.132058  1.292859   \n",
              "404288        0.00  0.002752  3.965443  1.039506  ...  0.065122  0.260731   \n",
              "404289        0.50  0.171995  3.502564  0.967588  ...  0.339222  0.424046   \n",
              "\n",
              "              92        93        94        95        96        97        98  \\\n",
              "0       1.067288  0.812995  0.608848  1.194738 -0.929530  0.636571  0.060470   \n",
              "1       0.538224  0.956488 -0.178107  0.618794 -0.323711  0.018381  0.128659   \n",
              "2      -0.326976  0.576991 -0.324447  1.337669  0.295700  1.012254  0.647503   \n",
              "3       0.305583  1.198292  0.665051  0.276205 -0.730551  0.699930 -0.391388   \n",
              "4       0.100048  0.100123 -0.459255  1.484291  0.159626 -0.412202  0.605216   \n",
              "...          ...       ...       ...       ...       ...       ...       ...   \n",
              "404285 -0.490136  0.427957  1.262882  0.722708  0.825303  0.121356  0.298591   \n",
              "404286  0.423400  0.973644  0.420917  0.001440 -0.788350  0.223743 -0.424428   \n",
              "404287  0.253462  1.202731 -0.806353  0.110541 -0.432854  1.889128 -0.980406   \n",
              "404288 -0.128992  0.051847  1.368363  0.607619 -0.037542  0.181794  0.086620   \n",
              "404289  0.956779  0.900531  1.637082  0.938749  0.032512 -0.056326 -0.862455   \n",
              "\n",
              "              99  \n",
              "0      -0.284853  \n",
              "1       0.026985  \n",
              "2      -0.425248  \n",
              "3       0.647760  \n",
              "4       0.174764  \n",
              "...          ...  \n",
              "404285  0.131396  \n",
              "404286 -0.289914  \n",
              "404287  1.583582  \n",
              "404288  0.151035  \n",
              "404289 -0.303694  \n",
              "\n",
              "[404287 rows x 213 columns]"
            ],
            "text/html": [
              "\n",
              "  <div id=\"df-30d9be64-f20b-4607-b24a-7edff4f88036\">\n",
              "    <div class=\"colab-df-container\">\n",
              "      <div>\n",
              "<style scoped>\n",
              "    .dataframe tbody tr th:only-of-type {\n",
              "        vertical-align: middle;\n",
              "    }\n",
              "\n",
              "    .dataframe tbody tr th {\n",
              "        vertical-align: top;\n",
              "    }\n",
              "\n",
              "    .dataframe thead th {\n",
              "        text-align: right;\n",
              "    }\n",
              "</style>\n",
              "<table border=\"1\" class=\"dataframe\">\n",
              "  <thead>\n",
              "    <tr style=\"text-align: right;\">\n",
              "      <th></th>\n",
              "      <th>q1_len</th>\n",
              "      <th>q2_len</th>\n",
              "      <th>q1_num_words</th>\n",
              "      <th>q2_num_words</th>\n",
              "      <th>word_common</th>\n",
              "      <th>word_total</th>\n",
              "      <th>word_share</th>\n",
              "      <th>np_mean1</th>\n",
              "      <th>np_max1</th>\n",
              "      <th>np_sdev1</th>\n",
              "      <th>...</th>\n",
              "      <th>90</th>\n",
              "      <th>91</th>\n",
              "      <th>92</th>\n",
              "      <th>93</th>\n",
              "      <th>94</th>\n",
              "      <th>95</th>\n",
              "      <th>96</th>\n",
              "      <th>97</th>\n",
              "      <th>98</th>\n",
              "      <th>99</th>\n",
              "    </tr>\n",
              "  </thead>\n",
              "  <tbody>\n",
              "    <tr>\n",
              "      <th>0</th>\n",
              "      <td>41</td>\n",
              "      <td>35</td>\n",
              "      <td>7</td>\n",
              "      <td>6</td>\n",
              "      <td>5</td>\n",
              "      <td>11</td>\n",
              "      <td>0.45</td>\n",
              "      <td>0.000578</td>\n",
              "      <td>4.755383</td>\n",
              "      <td>1.112135</td>\n",
              "      <td>...</td>\n",
              "      <td>0.299953</td>\n",
              "      <td>-0.403481</td>\n",
              "      <td>1.067288</td>\n",
              "      <td>0.812995</td>\n",
              "      <td>0.608848</td>\n",
              "      <td>1.194738</td>\n",
              "      <td>-0.929530</td>\n",
              "      <td>0.636571</td>\n",
              "      <td>0.060470</td>\n",
              "      <td>-0.284853</td>\n",
              "    </tr>\n",
              "    <tr>\n",
              "      <th>1</th>\n",
              "      <td>31</td>\n",
              "      <td>67</td>\n",
              "      <td>5</td>\n",
              "      <td>10</td>\n",
              "      <td>4</td>\n",
              "      <td>15</td>\n",
              "      <td>0.27</td>\n",
              "      <td>-0.032686</td>\n",
              "      <td>2.257829</td>\n",
              "      <td>0.560091</td>\n",
              "      <td>...</td>\n",
              "      <td>-0.162934</td>\n",
              "      <td>0.074871</td>\n",
              "      <td>0.538224</td>\n",
              "      <td>0.956488</td>\n",
              "      <td>-0.178107</td>\n",
              "      <td>0.618794</td>\n",
              "      <td>-0.323711</td>\n",
              "      <td>0.018381</td>\n",
              "      <td>0.128659</td>\n",
              "      <td>0.026985</td>\n",
              "    </tr>\n",
              "    <tr>\n",
              "      <th>2</th>\n",
              "      <td>44</td>\n",
              "      <td>36</td>\n",
              "      <td>6</td>\n",
              "      <td>5</td>\n",
              "      <td>2</td>\n",
              "      <td>11</td>\n",
              "      <td>0.18</td>\n",
              "      <td>0.003926</td>\n",
              "      <td>4.296773</td>\n",
              "      <td>1.110729</td>\n",
              "      <td>...</td>\n",
              "      <td>0.064437</td>\n",
              "      <td>0.536212</td>\n",
              "      <td>-0.326976</td>\n",
              "      <td>0.576991</td>\n",
              "      <td>-0.324447</td>\n",
              "      <td>1.337669</td>\n",
              "      <td>0.295700</td>\n",
              "      <td>1.012254</td>\n",
              "      <td>0.647503</td>\n",
              "      <td>-0.425248</td>\n",
              "    </tr>\n",
              "    <tr>\n",
              "      <th>3</th>\n",
              "      <td>21</td>\n",
              "      <td>44</td>\n",
              "      <td>3</td>\n",
              "      <td>9</td>\n",
              "      <td>0</td>\n",
              "      <td>9</td>\n",
              "      <td>0.00</td>\n",
              "      <td>0.012606</td>\n",
              "      <td>3.302940</td>\n",
              "      <td>0.805760</td>\n",
              "      <td>...</td>\n",
              "      <td>0.442791</td>\n",
              "      <td>0.551145</td>\n",
              "      <td>0.305583</td>\n",
              "      <td>1.198292</td>\n",
              "      <td>0.665051</td>\n",
              "      <td>0.276205</td>\n",
              "      <td>-0.730551</td>\n",
              "      <td>0.699930</td>\n",
              "      <td>-0.391388</td>\n",
              "      <td>0.647760</td>\n",
              "    </tr>\n",
              "    <tr>\n",
              "      <th>4</th>\n",
              "      <td>60</td>\n",
              "      <td>29</td>\n",
              "      <td>10</td>\n",
              "      <td>5</td>\n",
              "      <td>2</td>\n",
              "      <td>15</td>\n",
              "      <td>0.13</td>\n",
              "      <td>0.025703</td>\n",
              "      <td>3.951530</td>\n",
              "      <td>0.754999</td>\n",
              "      <td>...</td>\n",
              "      <td>-0.068765</td>\n",
              "      <td>0.132721</td>\n",
              "      <td>0.100048</td>\n",
              "      <td>0.100123</td>\n",
              "      <td>-0.459255</td>\n",
              "      <td>1.484291</td>\n",
              "      <td>0.159626</td>\n",
              "      <td>-0.412202</td>\n",
              "      <td>0.605216</td>\n",
              "      <td>0.174764</td>\n",
              "    </tr>\n",
              "    <tr>\n",
              "      <th>...</th>\n",
              "      <td>...</td>\n",
              "      <td>...</td>\n",
              "      <td>...</td>\n",
              "      <td>...</td>\n",
              "      <td>...</td>\n",
              "      <td>...</td>\n",
              "      <td>...</td>\n",
              "      <td>...</td>\n",
              "      <td>...</td>\n",
              "      <td>...</td>\n",
              "      <td>...</td>\n",
              "      <td>...</td>\n",
              "      <td>...</td>\n",
              "      <td>...</td>\n",
              "      <td>...</td>\n",
              "      <td>...</td>\n",
              "      <td>...</td>\n",
              "      <td>...</td>\n",
              "      <td>...</td>\n",
              "      <td>...</td>\n",
              "      <td>...</td>\n",
              "    </tr>\n",
              "    <tr>\n",
              "      <th>404285</th>\n",
              "      <td>56</td>\n",
              "      <td>54</td>\n",
              "      <td>7</td>\n",
              "      <td>7</td>\n",
              "      <td>6</td>\n",
              "      <td>14</td>\n",
              "      <td>0.43</td>\n",
              "      <td>-0.040875</td>\n",
              "      <td>5.091415</td>\n",
              "      <td>1.108952</td>\n",
              "      <td>...</td>\n",
              "      <td>-0.537482</td>\n",
              "      <td>0.371346</td>\n",
              "      <td>-0.490136</td>\n",
              "      <td>0.427957</td>\n",
              "      <td>1.262882</td>\n",
              "      <td>0.722708</td>\n",
              "      <td>0.825303</td>\n",
              "      <td>0.121356</td>\n",
              "      <td>0.298591</td>\n",
              "      <td>0.131396</td>\n",
              "    </tr>\n",
              "    <tr>\n",
              "      <th>404286</th>\n",
              "      <td>18</td>\n",
              "      <td>15</td>\n",
              "      <td>3</td>\n",
              "      <td>3</td>\n",
              "      <td>2</td>\n",
              "      <td>6</td>\n",
              "      <td>0.33</td>\n",
              "      <td>0.064426</td>\n",
              "      <td>3.037858</td>\n",
              "      <td>1.206777</td>\n",
              "      <td>...</td>\n",
              "      <td>0.895260</td>\n",
              "      <td>-0.376621</td>\n",
              "      <td>0.423400</td>\n",
              "      <td>0.973644</td>\n",
              "      <td>0.420917</td>\n",
              "      <td>0.001440</td>\n",
              "      <td>-0.788350</td>\n",
              "      <td>0.223743</td>\n",
              "      <td>-0.424428</td>\n",
              "      <td>-0.289914</td>\n",
              "    </tr>\n",
              "    <tr>\n",
              "      <th>404287</th>\n",
              "      <td>8</td>\n",
              "      <td>4</td>\n",
              "      <td>2</td>\n",
              "      <td>1</td>\n",
              "      <td>1</td>\n",
              "      <td>3</td>\n",
              "      <td>0.33</td>\n",
              "      <td>0.001542</td>\n",
              "      <td>2.492234</td>\n",
              "      <td>0.959265</td>\n",
              "      <td>...</td>\n",
              "      <td>0.132058</td>\n",
              "      <td>1.292859</td>\n",
              "      <td>0.253462</td>\n",
              "      <td>1.202731</td>\n",
              "      <td>-0.806353</td>\n",
              "      <td>0.110541</td>\n",
              "      <td>-0.432854</td>\n",
              "      <td>1.889128</td>\n",
              "      <td>-0.980406</td>\n",
              "      <td>1.583582</td>\n",
              "    </tr>\n",
              "    <tr>\n",
              "      <th>404288</th>\n",
              "      <td>61</td>\n",
              "      <td>77</td>\n",
              "      <td>9</td>\n",
              "      <td>13</td>\n",
              "      <td>0</td>\n",
              "      <td>22</td>\n",
              "      <td>0.00</td>\n",
              "      <td>0.002752</td>\n",
              "      <td>3.965443</td>\n",
              "      <td>1.039506</td>\n",
              "      <td>...</td>\n",
              "      <td>0.065122</td>\n",
              "      <td>0.260731</td>\n",
              "      <td>-0.128992</td>\n",
              "      <td>0.051847</td>\n",
              "      <td>1.368363</td>\n",
              "      <td>0.607619</td>\n",
              "      <td>-0.037542</td>\n",
              "      <td>0.181794</td>\n",
              "      <td>0.086620</td>\n",
              "      <td>0.151035</td>\n",
              "    </tr>\n",
              "    <tr>\n",
              "      <th>404289</th>\n",
              "      <td>15</td>\n",
              "      <td>15</td>\n",
              "      <td>3</td>\n",
              "      <td>3</td>\n",
              "      <td>3</td>\n",
              "      <td>6</td>\n",
              "      <td>0.50</td>\n",
              "      <td>0.171995</td>\n",
              "      <td>3.502564</td>\n",
              "      <td>0.967588</td>\n",
              "      <td>...</td>\n",
              "      <td>0.339222</td>\n",
              "      <td>0.424046</td>\n",
              "      <td>0.956779</td>\n",
              "      <td>0.900531</td>\n",
              "      <td>1.637082</td>\n",
              "      <td>0.938749</td>\n",
              "      <td>0.032512</td>\n",
              "      <td>-0.056326</td>\n",
              "      <td>-0.862455</td>\n",
              "      <td>-0.303694</td>\n",
              "    </tr>\n",
              "  </tbody>\n",
              "</table>\n",
              "<p>404287 rows × 213 columns</p>\n",
              "</div>\n",
              "      <button class=\"colab-df-convert\" onclick=\"convertToInteractive('df-30d9be64-f20b-4607-b24a-7edff4f88036')\"\n",
              "              title=\"Convert this dataframe to an interactive table.\"\n",
              "              style=\"display:none;\">\n",
              "        \n",
              "  <svg xmlns=\"http://www.w3.org/2000/svg\" height=\"24px\"viewBox=\"0 0 24 24\"\n",
              "       width=\"24px\">\n",
              "    <path d=\"M0 0h24v24H0V0z\" fill=\"none\"/>\n",
              "    <path d=\"M18.56 5.44l.94 2.06.94-2.06 2.06-.94-2.06-.94-.94-2.06-.94 2.06-2.06.94zm-11 1L8.5 8.5l.94-2.06 2.06-.94-2.06-.94L8.5 2.5l-.94 2.06-2.06.94zm10 10l.94 2.06.94-2.06 2.06-.94-2.06-.94-.94-2.06-.94 2.06-2.06.94z\"/><path d=\"M17.41 7.96l-1.37-1.37c-.4-.4-.92-.59-1.43-.59-.52 0-1.04.2-1.43.59L10.3 9.45l-7.72 7.72c-.78.78-.78 2.05 0 2.83L4 21.41c.39.39.9.59 1.41.59.51 0 1.02-.2 1.41-.59l7.78-7.78 2.81-2.81c.8-.78.8-2.07 0-2.86zM5.41 20L4 18.59l7.72-7.72 1.47 1.35L5.41 20z\"/>\n",
              "  </svg>\n",
              "      </button>\n",
              "      \n",
              "  <style>\n",
              "    .colab-df-container {\n",
              "      display:flex;\n",
              "      flex-wrap:wrap;\n",
              "      gap: 12px;\n",
              "    }\n",
              "\n",
              "    .colab-df-convert {\n",
              "      background-color: #E8F0FE;\n",
              "      border: none;\n",
              "      border-radius: 50%;\n",
              "      cursor: pointer;\n",
              "      display: none;\n",
              "      fill: #1967D2;\n",
              "      height: 32px;\n",
              "      padding: 0 0 0 0;\n",
              "      width: 32px;\n",
              "    }\n",
              "\n",
              "    .colab-df-convert:hover {\n",
              "      background-color: #E2EBFA;\n",
              "      box-shadow: 0px 1px 2px rgba(60, 64, 67, 0.3), 0px 1px 3px 1px rgba(60, 64, 67, 0.15);\n",
              "      fill: #174EA6;\n",
              "    }\n",
              "\n",
              "    [theme=dark] .colab-df-convert {\n",
              "      background-color: #3B4455;\n",
              "      fill: #D2E3FC;\n",
              "    }\n",
              "\n",
              "    [theme=dark] .colab-df-convert:hover {\n",
              "      background-color: #434B5C;\n",
              "      box-shadow: 0px 1px 3px 1px rgba(0, 0, 0, 0.15);\n",
              "      filter: drop-shadow(0px 1px 2px rgba(0, 0, 0, 0.3));\n",
              "      fill: #FFFFFF;\n",
              "    }\n",
              "  </style>\n",
              "\n",
              "      <script>\n",
              "        const buttonEl =\n",
              "          document.querySelector('#df-30d9be64-f20b-4607-b24a-7edff4f88036 button.colab-df-convert');\n",
              "        buttonEl.style.display =\n",
              "          google.colab.kernel.accessAllowed ? 'block' : 'none';\n",
              "\n",
              "        async function convertToInteractive(key) {\n",
              "          const element = document.querySelector('#df-30d9be64-f20b-4607-b24a-7edff4f88036');\n",
              "          const dataTable =\n",
              "            await google.colab.kernel.invokeFunction('convertToInteractive',\n",
              "                                                     [key], {});\n",
              "          if (!dataTable) return;\n",
              "\n",
              "          const docLinkHtml = 'Like what you see? Visit the ' +\n",
              "            '<a target=\"_blank\" href=https://colab.research.google.com/notebooks/data_table.ipynb>data table notebook</a>'\n",
              "            + ' to learn more about interactive tables.';\n",
              "          element.innerHTML = '';\n",
              "          dataTable['output_type'] = 'display_data';\n",
              "          await google.colab.output.renderOutput(dataTable, element);\n",
              "          const docLink = document.createElement('div');\n",
              "          docLink.innerHTML = docLinkHtml;\n",
              "          element.appendChild(docLink);\n",
              "        }\n",
              "      </script>\n",
              "    </div>\n",
              "  </div>\n",
              "  "
            ]
          },
          "metadata": {},
          "execution_count": 37
        }
      ],
      "source": [
        "final_df"
      ]
    },
    {
      "cell_type": "code",
      "execution_count": null,
      "metadata": {
        "id": "XC5GLugK8eGk"
      },
      "outputs": [],
      "source": [
        "from sklearn.preprocessing import MinMaxScaler\n",
        "scaler=MinMaxScaler()\n",
        "\n",
        "# Define the columns to be scaled\n",
        "#columns_to_scale = ['q1_len', 'q2_len', 'q1_num_words', 'q2_num_words', 'word_common', 'word_total', 'word_share']\n",
        "scaled_data = scaler.fit_transform(final_df)\n"
      ]
    },
    {
      "cell_type": "code",
      "execution_count": null,
      "metadata": {
        "id": "1JL1bTwCNDt9"
      },
      "outputs": [],
      "source": [
        "# # Split the data into training and testing set\n",
        "from sklearn.model_selection import train_test_split\n",
        "X_train, X_test, y_train, y_test = train_test_split(final_df, dataset['is_duplicate'], test_size=0.3, random_state=428)"
      ]
    },
    {
      "cell_type": "code",
      "execution_count": null,
      "metadata": {
        "colab": {
          "base_uri": "https://localhost:8080/"
        },
        "id": "2ssg-AxxjsSk",
        "outputId": "4fc3b94f-afb5-4efa-dce3-0ebd98ace3e7"
      },
      "outputs": [
        {
          "output_type": "stream",
          "name": "stdout",
          "text": [
            "(283000, 213)\n",
            "(283000,)\n",
            "(121287, 213)\n",
            "(121287,)\n"
          ]
        }
      ],
      "source": [
        "# Sanity check for the sampled data\n",
        "print(X_train.shape)\n",
        "print(y_train.shape)\n",
        "print(X_test.shape)\n",
        "print(y_test.shape)"
      ]
    },
    {
      "cell_type": "markdown",
      "metadata": {
        "id": "GkatgYvCfs2w"
      },
      "source": [
        "Different Classification models"
      ]
    },
    {
      "cell_type": "markdown",
      "metadata": {
        "id": "EPcO87RHfrr1"
      },
      "source": []
    },
    {
      "cell_type": "code",
      "execution_count": null,
      "metadata": {
        "id": "dXrCnxF4TGWV"
      },
      "outputs": [],
      "source": [
        "from sklearn.metrics import accuracy_score, precision_score, recall_score, f1_score\n",
        "from sklearn.metrics import classification_report\n",
        "from sklearn.metrics import confusion_matrix,ConfusionMatrixDisplay"
      ]
    },
    {
      "cell_type": "code",
      "execution_count": null,
      "metadata": {
        "id": "M2u-jdK9j3KZ"
      },
      "outputs": [],
      "source": [
        "def cm_disp(confusion_matrix):\n",
        "  cm_display = ConfusionMatrixDisplay(confusion_matrix = confusion_matrix, display_labels = [False, True])\n",
        "  cm_display.plot()\n",
        "  plt.show()"
      ]
    },
    {
      "cell_type": "code",
      "execution_count": null,
      "metadata": {
        "colab": {
          "base_uri": "https://localhost:8080/"
        },
        "id": "Jxe5ooflQ6B5",
        "outputId": "c02c0482-68b2-4091-b5f6-2069f9ac0b0e"
      },
      "outputs": [
        {
          "output_type": "stream",
          "name": "stdout",
          "text": [
            "Logistic regression confusion matrix\n",
            "[[63190 13203]\n",
            " [18194 26700]]\n",
            "test_accuracy =  0.7411346640612761\n",
            "Train Accuracy: 0.7416819787985865\n",
            "\n",
            "Classification report for logistic regression model\n",
            "              precision    recall  f1-score   support\n",
            "\n",
            "           0       0.78      0.83      0.80     76393\n",
            "           1       0.67      0.59      0.63     44894\n",
            "\n",
            "    accuracy                           0.74    121287\n",
            "   macro avg       0.72      0.71      0.72    121287\n",
            "weighted avg       0.74      0.74      0.74    121287\n",
            "\n"
          ]
        }
      ],
      "source": [
        "#Train a classification model : Word to Vec\n",
        "from sklearn.linear_model import LogisticRegression\n",
        "\n",
        "logisticModel = LogisticRegression(solver='liblinear', penalty='l1')\n",
        "logisticModel.fit(X_train,y_train)\n",
        "#Logistic regression Confusion Matrix\n",
        "y_pred = logisticModel.predict(X_test)\n",
        "\n",
        "print(\"Logistic regression confusion matrix\")\n",
        "logistic_confusionMatrix = confusion_matrix(y_test, y_pred)\n",
        "print(logistic_confusionMatrix)\n",
        "print( 'test_accuracy = ', accuracy_score(y_test, y_pred))\n",
        "\n",
        "# Predict labels for the training data\n",
        "y_train_pred = logisticModel.predict(X_train)\n",
        "# Calculate train accuracy\n",
        "train_accuracy = accuracy_score(y_train, y_train_pred)\n",
        "print(\"Train Accuracy:\", train_accuracy)\n",
        "\n",
        "print(\"\\nClassification report for logistic regression model\")\n",
        "print(classification_report(y_test, y_pred))"
      ]
    },
    {
      "cell_type": "code",
      "source": [
        "import matplotlib.pyplot as plt\n",
        "import numpy as np\n",
        "epochs = range(1, len(train_accuracy) + 1)\n",
        "# Plot the graph\n",
        "plt.plot(epochs, train_accuracy, 'b', label='Training Accuracy')\n",
        "plt.plot(epochs, accuracy_score(y_test, y_pred), 'r', label='Testing Accuracy')\n",
        "# Add labels and title\n",
        "plt.xlabel('Epochs')\n",
        "plt.ylabel('Accuracy')\n",
        "plt.title('Training and Testing Accuracy')\n",
        "plt.legend()\n",
        "\n",
        "# Set y-axis limits\n",
        "plt.ylim([0, 1])\n",
        "\n",
        "# Show the plot\n",
        "plt.show()\n"
      ],
      "metadata": {
        "colab": {
          "base_uri": "https://localhost:8080/",
          "height": 242
        },
        "id": "T_j6SbjpwZ42",
        "outputId": "989e3315-7721-4360-885f-0bee89497327"
      },
      "execution_count": null,
      "outputs": [
        {
          "output_type": "error",
          "ename": "TypeError",
          "evalue": "ignored",
          "traceback": [
            "\u001b[0;31m---------------------------------------------------------------------------\u001b[0m",
            "\u001b[0;31mTypeError\u001b[0m                                 Traceback (most recent call last)",
            "\u001b[0;32m<ipython-input-44-477e1207d7b1>\u001b[0m in \u001b[0;36m<cell line: 3>\u001b[0;34m()\u001b[0m\n\u001b[1;32m      1\u001b[0m \u001b[0;32mimport\u001b[0m \u001b[0mmatplotlib\u001b[0m\u001b[0;34m.\u001b[0m\u001b[0mpyplot\u001b[0m \u001b[0;32mas\u001b[0m \u001b[0mplt\u001b[0m\u001b[0;34m\u001b[0m\u001b[0;34m\u001b[0m\u001b[0m\n\u001b[1;32m      2\u001b[0m \u001b[0;32mimport\u001b[0m \u001b[0mnumpy\u001b[0m \u001b[0;32mas\u001b[0m \u001b[0mnp\u001b[0m\u001b[0;34m\u001b[0m\u001b[0;34m\u001b[0m\u001b[0m\n\u001b[0;32m----> 3\u001b[0;31m \u001b[0mepochs\u001b[0m \u001b[0;34m=\u001b[0m \u001b[0mrange\u001b[0m\u001b[0;34m(\u001b[0m\u001b[0;36m1\u001b[0m\u001b[0;34m,\u001b[0m \u001b[0mlen\u001b[0m\u001b[0;34m(\u001b[0m\u001b[0mtrain_accuracy\u001b[0m\u001b[0;34m)\u001b[0m \u001b[0;34m+\u001b[0m \u001b[0;36m1\u001b[0m\u001b[0;34m)\u001b[0m\u001b[0;34m\u001b[0m\u001b[0;34m\u001b[0m\u001b[0m\n\u001b[0m\u001b[1;32m      4\u001b[0m \u001b[0;31m# Plot the graph\u001b[0m\u001b[0;34m\u001b[0m\u001b[0;34m\u001b[0m\u001b[0m\n\u001b[1;32m      5\u001b[0m \u001b[0mplt\u001b[0m\u001b[0;34m.\u001b[0m\u001b[0mplot\u001b[0m\u001b[0;34m(\u001b[0m\u001b[0mepochs\u001b[0m\u001b[0;34m,\u001b[0m \u001b[0mtrain_accuracy\u001b[0m\u001b[0;34m,\u001b[0m \u001b[0;34m'b'\u001b[0m\u001b[0;34m,\u001b[0m \u001b[0mlabel\u001b[0m\u001b[0;34m=\u001b[0m\u001b[0;34m'Training Accuracy'\u001b[0m\u001b[0;34m)\u001b[0m\u001b[0;34m\u001b[0m\u001b[0;34m\u001b[0m\u001b[0m\n",
            "\u001b[0;31mTypeError\u001b[0m: object of type 'numpy.float64' has no len()"
          ]
        }
      ]
    },
    {
      "cell_type": "code",
      "execution_count": null,
      "metadata": {
        "colab": {
          "base_uri": "https://localhost:8080/",
          "height": 237
        },
        "id": "L1K8Oz089wZp",
        "outputId": "594de04b-4738-47db-ec76-4b6d286d22e4"
      },
      "outputs": [
        {
          "data": {
            "image/png": "[encoded data removed]",
            "text/plain": [
              "<Figure size 400x200 with 1 Axes>"
            ]
          },
          "metadata": {},
          "output_type": "display_data"
        }
      ],
      "source": [
        "labels = ['Train Accuracy', 'Test Accuracy']\n",
        "accuracies = [train_accuracy, accuracy_score(y_test, y_pred)]\n",
        "colors = ['black', 'grey']\n",
        "plt.figure(figsize=(4, 2))\n",
        "plt.bar(labels, accuracies, color=colors,width=0.6)\n",
        "plt.ylabel('Accuracy')\n",
        "plt.title('Train vs Test Accuracy of Logistic Regression')\n",
        "plt.show()"
      ]
    },
    {
      "cell_type": "code",
      "execution_count": null,
      "metadata": {
        "colab": {
          "base_uri": "https://localhost:8080/",
          "height": 449
        },
        "id": "GWv6b2NlkHNs",
        "outputId": "fba41071-5eb9-4be7-d839-81394e3b959b"
      },
      "outputs": [
        {
          "data": {
            "image/png": "[encoded data removed]",
            "text/plain": [
              "<Figure size 640x480 with 2 Axes>"
            ]
          },
          "metadata": {},
          "output_type": "display_data"
        }
      ],
      "source": [
        "cm_disp(logistic_confusionMatrix)"
      ]
    },
    {
      "cell_type": "code",
      "execution_count": null,
      "metadata": {
        "colab": {
          "base_uri": "https://localhost:8080/"
        },
        "id": "hEsvi9oYST1E",
        "outputId": "88aa7541-ba1d-461e-9683-cc8f36a3b22c"
      },
      "outputs": [
        {
          "name": "stdout",
          "output_type": "stream",
          "text": [
            "RandomForest confusion matrix\n",
            "[[68771  7622]\n",
            " [13671 31223]]\n",
            "test_accuracy =  0.8244412014478056\n",
            "Train Accuracy: 0.9970388692579505\n",
            "\n",
            "Classification report for random forest model\n",
            "              precision    recall  f1-score   support\n",
            "\n",
            "           0       0.83      0.90      0.87     76393\n",
            "           1       0.80      0.70      0.75     44894\n",
            "\n",
            "    accuracy                           0.82    121287\n",
            "   macro avg       0.82      0.80      0.81    121287\n",
            "weighted avg       0.82      0.82      0.82    121287\n",
            "\n"
          ]
        }
      ],
      "source": [
        "from sklearn.ensemble import RandomForestClassifier\n",
        "randomForestModel =  RandomForestClassifier()\n",
        "randomForestModel.fit(X_train,y_train)\n",
        "randomForestModel.classes_\n",
        "#RandomForest Confusion Matrix #word to vec\n",
        "y_pred_rf = randomForestModel.predict(X_test)\n",
        "print(\"RandomForest confusion matrix\")\n",
        "randomForestModel_confusionMatrix = confusion_matrix(y_test, y_pred_rf)\n",
        "print(randomForestModel_confusionMatrix)\n",
        "print( 'test_accuracy = ', accuracy_score(y_test, y_pred_rf))\n",
        "\n",
        "# Predict labels for the training data\n",
        "y_train_pred_rf = randomForestModel.predict(X_train)\n",
        "# Calculate train accuracy\n",
        "train_accuracy_rf = accuracy_score(y_train, y_train_pred_rf)\n",
        "print(\"Train Accuracy:\", train_accuracy_rf)\n",
        "\n",
        "print(\"\\nClassification report for random forest model\")\n",
        "print(classification_report(y_test, y_pred_rf))"
      ]
    },
    {
      "cell_type": "code",
      "execution_count": null,
      "metadata": {
        "colab": {
          "base_uri": "https://localhost:8080/",
          "height": 237
        },
        "id": "fYAILOqYCvOz",
        "outputId": "7ab1ed02-8e32-4368-aaf8-eec3322c8664"
      },
      "outputs": [
        {
          "data": {
            "image/png": "[encoded data removed]",
            "text/plain": [
              "<Figure size 400x200 with 1 Axes>"
            ]
          },
          "metadata": {},
          "output_type": "display_data"
        }
      ],
      "source": [
        "labels = ['Train Accuracy', 'Test Accuracy']\n",
        "accuracies = [train_accuracy_rf, accuracy_score(y_test, y_pred_rf)]\n",
        "colors = ['black', 'grey']\n",
        "plt.figure(figsize=(4, 2))\n",
        "plt.bar(labels, accuracies, color=colors,width=0.6)\n",
        "plt.ylabel('Accuracy')\n",
        "plt.title('Train vs Test Accuracy of Random Forest')\n",
        "plt.show()"
      ]
    },
    {
      "cell_type": "code",
      "execution_count": null,
      "metadata": {
        "colab": {
          "base_uri": "https://localhost:8080/",
          "height": 449
        },
        "id": "kNY7ujN4klYB",
        "outputId": "27afbf64-397d-4bf0-fb60-b50a6f007a79"
      },
      "outputs": [
        {
          "data": {
            "image/png": "[encoded data removed]",
            "text/plain": [
              "<Figure size 640x480 with 2 Axes>"
            ]
          },
          "metadata": {},
          "output_type": "display_data"
        }
      ],
      "source": [
        "cm_disp(randomForestModel_confusionMatrix)"
      ]
    },
    {
      "cell_type": "code",
      "execution_count": null,
      "metadata": {
        "colab": {
          "base_uri": "https://localhost:8080/"
        },
        "id": "tnz2Uk1KSnLz",
        "outputId": "32754602-b1ac-419a-ac6a-90ba770f47aa"
      },
      "outputs": [
        {
          "name": "stdout",
          "output_type": "stream",
          "text": [
            "Decision tree confusion matrix\n",
            "[[60733 15660]\n",
            " [14671 30223]]\n",
            "test_accuracy =  0.7499237346129428\n",
            "Train Accuracy: 0.9970388692579505\n",
            "Classification report for decision tree model\n",
            "              precision    recall  f1-score   support\n",
            "\n",
            "           0       0.81      0.80      0.80     76393\n",
            "           1       0.66      0.67      0.67     44894\n",
            "\n",
            "    accuracy                           0.75    121287\n",
            "   macro avg       0.73      0.73      0.73    121287\n",
            "weighted avg       0.75      0.75      0.75    121287\n",
            "\n"
          ]
        }
      ],
      "source": [
        "from sklearn.tree import DecisionTreeClassifier\n",
        "decisionTreeModel = DecisionTreeClassifier()\n",
        "decisionTreeModel.fit(X_train, y_train)\n",
        "randomForestModel.classes_\n",
        "\n",
        "#Decision tree Confusion Matrix # word to vec\n",
        "y_pred_dt = decisionTreeModel.predict(X_test)\n",
        "print(\"Decision tree confusion matrix\")\n",
        "decisionTreeModel_confusionMatrix = confusion_matrix(y_test,y_pred_dt )\n",
        "print(decisionTreeModel_confusionMatrix)\n",
        "print( 'test_accuracy = ', accuracy_score(y_test, y_pred_dt))\n",
        "\n",
        "# Predict labels for the training data\n",
        "y_train_pred_dt = decisionTreeModel.predict(X_train)\n",
        "# Calculate train accuracy\n",
        "train_accuracy_dt = accuracy_score(y_train, y_train_pred_dt)\n",
        "print(\"Train Accuracy:\", train_accuracy_dt)\n",
        "\n",
        "print(\"Classification report for decision tree model\")\n",
        "print(classification_report(y_test, y_pred_dt))"
      ]
    },
    {
      "cell_type": "code",
      "execution_count": null,
      "metadata": {
        "colab": {
          "base_uri": "https://localhost:8080/",
          "height": 237
        },
        "id": "xWfWcVayTBFX",
        "outputId": "747a5d09-24cb-482a-d998-1ed13cee0ca0"
      },
      "outputs": [
        {
          "data": {
            "image/png": "[encoded data removed]",
            "text/plain": [
              "<Figure size 400x200 with 1 Axes>"
            ]
          },
          "metadata": {},
          "output_type": "display_data"
        }
      ],
      "source": [
        "labels = ['Train Accuracy', 'Test Accuracy']\n",
        "accuracies = [train_accuracy_dt, accuracy_score(y_test, y_pred_dt)]\n",
        "colors = ['black', 'grey']\n",
        "plt.figure(figsize=(4, 2))\n",
        "plt.bar(labels, accuracies, color=colors,width=0.6)\n",
        "plt.ylabel('Accuracy')\n",
        "plt.title('Train vs Test Accuracy of AdaBoost')\n",
        "plt.show()"
      ]
    },
    {
      "cell_type": "code",
      "execution_count": null,
      "metadata": {
        "colab": {
          "base_uri": "https://localhost:8080/",
          "height": 449
        },
        "id": "-EmhY-z-kxqs",
        "outputId": "e47685b8-14a1-4559-aaa1-58e563fb7737"
      },
      "outputs": [
        {
          "data": {
            "image/png": "[encoded data removed]",
            "text/plain": [
              "<Figure size 640x480 with 2 Axes>"
            ]
          },
          "metadata": {},
          "output_type": "display_data"
        }
      ],
      "source": [
        "cm_disp(randomForestModel_confusionMatrix)"
      ]
    },
    {
      "cell_type": "code",
      "execution_count": null,
      "metadata": {
        "id": "MHr9b4Z-S7KJ"
      },
      "outputs": [],
      "source": []
    },
    {
      "cell_type": "code",
      "execution_count": null,
      "metadata": {
        "colab": {
          "background_save": true
        },
        "id": "bzIDldhcUse-",
        "outputId": "0729d912-d2e0-4909-8d13-ce8f384a16a6"
      },
      "outputs": [
        {
          "name": "stdout",
          "output_type": "stream",
          "text": [
            "              precision    recall  f1-score   support\n",
            "\n",
            "           0       0.77      0.85      0.81     76393\n",
            "           1       0.68      0.56      0.62     44894\n",
            "\n",
            "    accuracy                           0.74    121287\n",
            "   macro avg       0.73      0.70      0.71    121287\n",
            "weighted avg       0.74      0.74      0.73    121287\n",
            "\n",
            "[[64822 11571]\n",
            " [19818 25076]]\n",
            "test_accuracy =  0.7412006233149472\n",
            "Train Accuracy: 0.747452296819788\n"
          ]
        }
      ],
      "source": [
        "# Adaboost #word to vec\n",
        "from sklearn.ensemble import AdaBoostClassifier\n",
        "\n",
        "# Choosing Decision Tree with 1 level as the weak learner\n",
        "DTC=DecisionTreeClassifier(max_depth=6)\n",
        "clf = AdaBoostClassifier(n_estimators=50, base_estimator=DTC ,learning_rate=0.01)\n",
        "\n",
        "# Creating the model on Training Data\n",
        "AB=clf.fit(X_train,y_train)\n",
        "y_pred_clf=AB.predict(X_test)\n",
        "\n",
        "# Measuring accuracy on Testing Data\n",
        "print(classification_report(y_test, y_pred_clf))\n",
        "print(confusion_matrix(y_test, y_pred_clf))\n",
        "# Printing the Overall Accuracy of the model\n",
        "print( 'test_accuracy = ', accuracy_score(y_test, y_pred_clf))\n",
        "\n",
        "# Predict labels for the training data\n",
        "y_train_pred_clf = AB.predict(X_train)\n",
        "# Calculate train accuracy\n",
        "train_accuracy_clf = accuracy_score(y_train, y_train_pred_clf)\n",
        "print(\"Train Accuracy:\", train_accuracy_clf)"
      ]
    },
    {
      "cell_type": "code",
      "execution_count": null,
      "metadata": {
        "colab": {
          "background_save": true
        },
        "id": "tB6XWAhpTDN9",
        "outputId": "1a0559ac-d5ad-49f1-8887-ad876504abf8"
      },
      "outputs": [
        {
          "data": {
            "image/png": "[encoded data removed]",
            "text/plain": [
              "<Figure size 400x200 with 1 Axes>"
            ]
          },
          "metadata": {},
          "output_type": "display_data"
        }
      ],
      "source": [
        "labels = ['Train Accuracy', 'Test Accuracy']\n",
        "accuracies = [train_accuracy_clf, accuracy_score(y_test, y_pred_clf)]\n",
        "colors = ['black', 'grey']\n",
        "plt.figure(figsize=(4, 2))\n",
        "plt.bar(labels, accuracies, color=colors,width=0.6)\n",
        "plt.ylabel('Accuracy')\n",
        "plt.title('Train vs Test Accuracy of AdaBoost')\n",
        "plt.show()"
      ]
    },
    {
      "cell_type": "code",
      "execution_count": null,
      "metadata": {
        "colab": {
          "background_save": true
        },
        "id": "hu2JtQfik-t1",
        "outputId": "c13c2370-9728-49f6-f6a9-cfd0d7c37c1c"
      },
      "outputs": [
        {
          "data": {
            "image/png": "[encoded data removed]",
            "text/plain": [
              "<Figure size 640x480 with 2 Axes>"
            ]
          },
          "metadata": {},
          "output_type": "display_data"
        }
      ],
      "source": [
        "confusion_matrix = confusion_matrix(y_test, y_pred_clf)\n",
        "cm_disp(confusion_matrix)"
      ]
    }
  ],
  "metadata": {
    "accelerator": "GPU",
    "colab": {
      "provenance": [],
      "include_colab_link": true
    },
    "kernelspec": {
      "display_name": "Python 3",
      "name": "python3"
    },
    "language_info": {
      "name": "python"
    }
  },
  "nbformat": 4,
  "nbformat_minor": 0
}